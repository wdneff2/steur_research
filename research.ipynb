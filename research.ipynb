{
 "cells": [
  {
   "cell_type": "code",
   "execution_count": 212,
   "metadata": {},
   "outputs": [],
   "source": [
    "import pandas as pd"
   ]
  },
  {
   "cell_type": "code",
   "execution_count": 213,
   "metadata": {},
   "outputs": [
    {
     "data": {
      "text/html": [
       "<div>\n",
       "<style scoped>\n",
       "    .dataframe tbody tr th:only-of-type {\n",
       "        vertical-align: middle;\n",
       "    }\n",
       "\n",
       "    .dataframe tbody tr th {\n",
       "        vertical-align: top;\n",
       "    }\n",
       "\n",
       "    .dataframe thead th {\n",
       "        text-align: right;\n",
       "    }\n",
       "</style>\n",
       "<table border=\"1\" class=\"dataframe\">\n",
       "  <thead>\n",
       "    <tr style=\"text-align: right;\">\n",
       "      <th></th>\n",
       "      <th>weight_genpop_2020Nov</th>\n",
       "      <th>cdid_2020Nov</th>\n",
       "      <th>inputstate_2020Nov</th>\n",
       "      <th>track_2020Nov</th>\n",
       "      <th>econtrend_2020Nov</th>\n",
       "      <th>persfinretro_2020Nov</th>\n",
       "      <th>standards_children_2020Nov</th>\n",
       "      <th>values_culture_2020Nov</th>\n",
       "      <th>turnout_2020Nov</th>\n",
       "      <th>votemeth_2020Nov</th>\n",
       "      <th>...</th>\n",
       "      <th>faminc_2020Sep</th>\n",
       "      <th>ideo5_2020Sep</th>\n",
       "      <th>child18_2020Sep</th>\n",
       "      <th>religion_2020Sep</th>\n",
       "      <th>religservice_2020Sep</th>\n",
       "      <th>bornagain_2020Sep</th>\n",
       "      <th>religimp_2020Sep</th>\n",
       "      <th>pew_prayer_2020Sep</th>\n",
       "      <th>starttime_2020Sep</th>\n",
       "      <th>endtime_2020Sep</th>\n",
       "    </tr>\n",
       "  </thead>\n",
       "  <tbody>\n",
       "    <tr>\n",
       "      <th>0</th>\n",
       "      <td>0.617408</td>\n",
       "      <td>2</td>\n",
       "      <td>6.0</td>\n",
       "      <td>2.0</td>\n",
       "      <td>3.0</td>\n",
       "      <td>2.0</td>\n",
       "      <td>1.0</td>\n",
       "      <td>2.0</td>\n",
       "      <td>1.0</td>\n",
       "      <td>3.0</td>\n",
       "      <td>...</td>\n",
       "      <td>7</td>\n",
       "      <td>3</td>\n",
       "      <td>2</td>\n",
       "      <td>2</td>\n",
       "      <td>5</td>\n",
       "      <td>2</td>\n",
       "      <td>2</td>\n",
       "      <td>5</td>\n",
       "      <td>04 Sep 20</td>\n",
       "      <td>04 Sep 20</td>\n",
       "    </tr>\n",
       "    <tr>\n",
       "      <th>1</th>\n",
       "      <td>NaN</td>\n",
       "      <td></td>\n",
       "      <td>NaN</td>\n",
       "      <td>NaN</td>\n",
       "      <td>NaN</td>\n",
       "      <td>NaN</td>\n",
       "      <td>NaN</td>\n",
       "      <td>NaN</td>\n",
       "      <td>NaN</td>\n",
       "      <td>NaN</td>\n",
       "      <td>...</td>\n",
       "      <td>6</td>\n",
       "      <td>3</td>\n",
       "      <td>2</td>\n",
       "      <td>10</td>\n",
       "      <td>6</td>\n",
       "      <td>2</td>\n",
       "      <td>4</td>\n",
       "      <td>6</td>\n",
       "      <td>29 Aug 20</td>\n",
       "      <td>29 Aug 20</td>\n",
       "    </tr>\n",
       "    <tr>\n",
       "      <th>2</th>\n",
       "      <td>0.513165</td>\n",
       "      <td>1</td>\n",
       "      <td>50.0</td>\n",
       "      <td>2.0</td>\n",
       "      <td>3.0</td>\n",
       "      <td>3.0</td>\n",
       "      <td>2.0</td>\n",
       "      <td>2.0</td>\n",
       "      <td>1.0</td>\n",
       "      <td>3.0</td>\n",
       "      <td>...</td>\n",
       "      <td>3</td>\n",
       "      <td>2</td>\n",
       "      <td>2</td>\n",
       "      <td>9</td>\n",
       "      <td>6</td>\n",
       "      <td>2</td>\n",
       "      <td>4</td>\n",
       "      <td>7</td>\n",
       "      <td>01 Sep 20</td>\n",
       "      <td>01 Sep 20</td>\n",
       "    </tr>\n",
       "    <tr>\n",
       "      <th>3</th>\n",
       "      <td>NaN</td>\n",
       "      <td></td>\n",
       "      <td>NaN</td>\n",
       "      <td>NaN</td>\n",
       "      <td>NaN</td>\n",
       "      <td>NaN</td>\n",
       "      <td>NaN</td>\n",
       "      <td>NaN</td>\n",
       "      <td>NaN</td>\n",
       "      <td>NaN</td>\n",
       "      <td>...</td>\n",
       "      <td>11</td>\n",
       "      <td>2</td>\n",
       "      <td>2</td>\n",
       "      <td>11</td>\n",
       "      <td>5</td>\n",
       "      <td>2</td>\n",
       "      <td>2</td>\n",
       "      <td>1</td>\n",
       "      <td>08 Sep 20</td>\n",
       "      <td>08 Sep 20</td>\n",
       "    </tr>\n",
       "    <tr>\n",
       "      <th>4</th>\n",
       "      <td>0.567885</td>\n",
       "      <td>2</td>\n",
       "      <td>4.0</td>\n",
       "      <td>2.0</td>\n",
       "      <td>3.0</td>\n",
       "      <td>2.0</td>\n",
       "      <td>2.0</td>\n",
       "      <td>1.0</td>\n",
       "      <td>1.0</td>\n",
       "      <td>3.0</td>\n",
       "      <td>...</td>\n",
       "      <td>10</td>\n",
       "      <td>1</td>\n",
       "      <td>2</td>\n",
       "      <td>12</td>\n",
       "      <td>2</td>\n",
       "      <td>2</td>\n",
       "      <td>2</td>\n",
       "      <td>7</td>\n",
       "      <td>29 Aug 20</td>\n",
       "      <td>29 Aug 20</td>\n",
       "    </tr>\n",
       "    <tr>\n",
       "      <th>...</th>\n",
       "      <td>...</td>\n",
       "      <td>...</td>\n",
       "      <td>...</td>\n",
       "      <td>...</td>\n",
       "      <td>...</td>\n",
       "      <td>...</td>\n",
       "      <td>...</td>\n",
       "      <td>...</td>\n",
       "      <td>...</td>\n",
       "      <td>...</td>\n",
       "      <td>...</td>\n",
       "      <td>...</td>\n",
       "      <td>...</td>\n",
       "      <td>...</td>\n",
       "      <td>...</td>\n",
       "      <td>...</td>\n",
       "      <td>...</td>\n",
       "      <td>...</td>\n",
       "      <td>...</td>\n",
       "      <td>...</td>\n",
       "      <td>...</td>\n",
       "    </tr>\n",
       "    <tr>\n",
       "      <th>5895</th>\n",
       "      <td>0.799748</td>\n",
       "      <td>1</td>\n",
       "      <td>16.0</td>\n",
       "      <td>2.0</td>\n",
       "      <td>1.0</td>\n",
       "      <td>2.0</td>\n",
       "      <td>1.0</td>\n",
       "      <td>1.0</td>\n",
       "      <td>1.0</td>\n",
       "      <td>3.0</td>\n",
       "      <td>...</td>\n",
       "      <td>97</td>\n",
       "      <td>2</td>\n",
       "      <td>2</td>\n",
       "      <td>9</td>\n",
       "      <td>6</td>\n",
       "      <td>2</td>\n",
       "      <td>4</td>\n",
       "      <td>7</td>\n",
       "      <td>27 Sep 20</td>\n",
       "      <td>27 Sep 20</td>\n",
       "    </tr>\n",
       "    <tr>\n",
       "      <th>5896</th>\n",
       "      <td>1.440486</td>\n",
       "      <td>14</td>\n",
       "      <td>17.0</td>\n",
       "      <td>2.0</td>\n",
       "      <td>3.0</td>\n",
       "      <td>2.0</td>\n",
       "      <td>3.0</td>\n",
       "      <td>3.0</td>\n",
       "      <td>2.0</td>\n",
       "      <td>9.0</td>\n",
       "      <td>...</td>\n",
       "      <td>7</td>\n",
       "      <td>1</td>\n",
       "      <td>1</td>\n",
       "      <td>12</td>\n",
       "      <td>1</td>\n",
       "      <td>2</td>\n",
       "      <td>1</td>\n",
       "      <td>1</td>\n",
       "      <td>27 Sep 20</td>\n",
       "      <td>27 Sep 20</td>\n",
       "    </tr>\n",
       "    <tr>\n",
       "      <th>5897</th>\n",
       "      <td>0.799748</td>\n",
       "      <td>6</td>\n",
       "      <td>29.0</td>\n",
       "      <td>3.0</td>\n",
       "      <td>4.0</td>\n",
       "      <td>3.0</td>\n",
       "      <td>4.0</td>\n",
       "      <td>3.0</td>\n",
       "      <td>1.0</td>\n",
       "      <td>2.0</td>\n",
       "      <td>...</td>\n",
       "      <td>3</td>\n",
       "      <td>2</td>\n",
       "      <td>2</td>\n",
       "      <td>11</td>\n",
       "      <td>6</td>\n",
       "      <td>2</td>\n",
       "      <td>2</td>\n",
       "      <td>6</td>\n",
       "      <td>27 Sep 20</td>\n",
       "      <td>27 Sep 20</td>\n",
       "    </tr>\n",
       "    <tr>\n",
       "      <th>5898</th>\n",
       "      <td>NaN</td>\n",
       "      <td></td>\n",
       "      <td>NaN</td>\n",
       "      <td>NaN</td>\n",
       "      <td>NaN</td>\n",
       "      <td>NaN</td>\n",
       "      <td>NaN</td>\n",
       "      <td>NaN</td>\n",
       "      <td>NaN</td>\n",
       "      <td>NaN</td>\n",
       "      <td>...</td>\n",
       "      <td>14</td>\n",
       "      <td>3</td>\n",
       "      <td>2</td>\n",
       "      <td>1</td>\n",
       "      <td>5</td>\n",
       "      <td>2</td>\n",
       "      <td>2</td>\n",
       "      <td>6</td>\n",
       "      <td>27 Sep 20</td>\n",
       "      <td>27 Sep 20</td>\n",
       "    </tr>\n",
       "    <tr>\n",
       "      <th>5899</th>\n",
       "      <td>NaN</td>\n",
       "      <td></td>\n",
       "      <td>NaN</td>\n",
       "      <td>NaN</td>\n",
       "      <td>NaN</td>\n",
       "      <td>NaN</td>\n",
       "      <td>NaN</td>\n",
       "      <td>NaN</td>\n",
       "      <td>NaN</td>\n",
       "      <td>NaN</td>\n",
       "      <td>...</td>\n",
       "      <td>10</td>\n",
       "      <td>3</td>\n",
       "      <td>2</td>\n",
       "      <td>1</td>\n",
       "      <td>2</td>\n",
       "      <td>1</td>\n",
       "      <td>1</td>\n",
       "      <td>1</td>\n",
       "      <td>27 Sep 20</td>\n",
       "      <td>27 Sep 20</td>\n",
       "    </tr>\n",
       "  </tbody>\n",
       "</table>\n",
       "<p>5900 rows × 389 columns</p>\n",
       "</div>"
      ],
      "text/plain": [
       "      weight_genpop_2020Nov cdid_2020Nov  inputstate_2020Nov  track_2020Nov  \\\n",
       "0                  0.617408            2                 6.0            2.0   \n",
       "1                       NaN                              NaN            NaN   \n",
       "2                  0.513165            1                50.0            2.0   \n",
       "3                       NaN                              NaN            NaN   \n",
       "4                  0.567885            2                 4.0            2.0   \n",
       "...                     ...          ...                 ...            ...   \n",
       "5895               0.799748            1                16.0            2.0   \n",
       "5896               1.440486           14                17.0            2.0   \n",
       "5897               0.799748            6                29.0            3.0   \n",
       "5898                    NaN                              NaN            NaN   \n",
       "5899                    NaN                              NaN            NaN   \n",
       "\n",
       "      econtrend_2020Nov  persfinretro_2020Nov  standards_children_2020Nov  \\\n",
       "0                   3.0                   2.0                         1.0   \n",
       "1                   NaN                   NaN                         NaN   \n",
       "2                   3.0                   3.0                         2.0   \n",
       "3                   NaN                   NaN                         NaN   \n",
       "4                   3.0                   2.0                         2.0   \n",
       "...                 ...                   ...                         ...   \n",
       "5895                1.0                   2.0                         1.0   \n",
       "5896                3.0                   2.0                         3.0   \n",
       "5897                4.0                   3.0                         4.0   \n",
       "5898                NaN                   NaN                         NaN   \n",
       "5899                NaN                   NaN                         NaN   \n",
       "\n",
       "      values_culture_2020Nov  turnout_2020Nov  votemeth_2020Nov  ...  \\\n",
       "0                        2.0              1.0               3.0  ...   \n",
       "1                        NaN              NaN               NaN  ...   \n",
       "2                        2.0              1.0               3.0  ...   \n",
       "3                        NaN              NaN               NaN  ...   \n",
       "4                        1.0              1.0               3.0  ...   \n",
       "...                      ...              ...               ...  ...   \n",
       "5895                     1.0              1.0               3.0  ...   \n",
       "5896                     3.0              2.0               9.0  ...   \n",
       "5897                     3.0              1.0               2.0  ...   \n",
       "5898                     NaN              NaN               NaN  ...   \n",
       "5899                     NaN              NaN               NaN  ...   \n",
       "\n",
       "      faminc_2020Sep  ideo5_2020Sep child18_2020Sep  religion_2020Sep  \\\n",
       "0                  7              3               2                 2   \n",
       "1                  6              3               2                10   \n",
       "2                  3              2               2                 9   \n",
       "3                 11              2               2                11   \n",
       "4                 10              1               2                12   \n",
       "...              ...            ...             ...               ...   \n",
       "5895              97              2               2                 9   \n",
       "5896               7              1               1                12   \n",
       "5897               3              2               2                11   \n",
       "5898              14              3               2                 1   \n",
       "5899              10              3               2                 1   \n",
       "\n",
       "      religservice_2020Sep  bornagain_2020Sep  religimp_2020Sep  \\\n",
       "0                        5                  2                 2   \n",
       "1                        6                  2                 4   \n",
       "2                        6                  2                 4   \n",
       "3                        5                  2                 2   \n",
       "4                        2                  2                 2   \n",
       "...                    ...                ...               ...   \n",
       "5895                     6                  2                 4   \n",
       "5896                     1                  2                 1   \n",
       "5897                     6                  2                 2   \n",
       "5898                     5                  2                 2   \n",
       "5899                     2                  1                 1   \n",
       "\n",
       "      pew_prayer_2020Sep  starttime_2020Sep  endtime_2020Sep  \n",
       "0                      5          04 Sep 20        04 Sep 20  \n",
       "1                      6          29 Aug 20        29 Aug 20  \n",
       "2                      7          01 Sep 20        01 Sep 20  \n",
       "3                      1          08 Sep 20        08 Sep 20  \n",
       "4                      7          29 Aug 20        29 Aug 20  \n",
       "...                  ...                ...              ...  \n",
       "5895                   7          27 Sep 20        27 Sep 20  \n",
       "5896                   1          27 Sep 20        27 Sep 20  \n",
       "5897                   6          27 Sep 20        27 Sep 20  \n",
       "5898                   6          27 Sep 20        27 Sep 20  \n",
       "5899                   1          27 Sep 20        27 Sep 20  \n",
       "\n",
       "[5900 rows x 389 columns]"
      ]
     },
     "execution_count": 213,
     "metadata": {},
     "output_type": "execute_result"
    }
   ],
   "source": [
    "df = pd.read_csv(\"voter_2020.csv\", encoding='cp1252')\n",
    "df"
   ]
  },
  {
   "cell_type": "code",
   "execution_count": 214,
   "metadata": {},
   "outputs": [
    {
     "data": {
      "text/plain": [
       "array(['weight_genpop_2020Nov', 'cdid_2020Nov', 'inputstate_2020Nov',\n",
       "       'track_2020Nov', 'econtrend_2020Nov', 'persfinretro_2020Nov',\n",
       "       'standards_children_2020Nov', 'values_culture_2020Nov',\n",
       "       'turnout_2020Nov', 'votemeth_2020Nov', 'waittime_2020Nov',\n",
       "       'presvote_2020Nov', 'presvote_t_2020Nov', 'presvote_force_2020Nov',\n",
       "       'foragainst_trump_2020Nov', 'foragainst_biden_2020Nov',\n",
       "       'trump_sanders_2020Nov', 'trump_clinton_2020Nov',\n",
       "       'trump_harris_2020Nov', 'biden_pence_2020Nov', 'housevote_2020Nov',\n",
       "       'senatevote_2020Nov', 'senatevote2_2020Nov',\n",
       "       'governorvote_2020Nov', 'whowon_2020Nov',\n",
       "       'result_challenge_2020Nov', 'result_neverconcede_2020Nov',\n",
       "       'result_reassignevs_2020Nov', 'acceptresult_own_2020Nov',\n",
       "       'acceptresult_trump_2020Nov', 'accuratecount_own_2020Nov',\n",
       "       'intendedcount_comm_2020Nov', 'intendedcount_country_2020Nov',\n",
       "       'votingexp_id_2020Nov', 'votingexp_place_2020Nov',\n",
       "       'votingexp_registration_2020Nov', 'votingexp_harass_2020Nov',\n",
       "       'votingexp_name_2020Nov', 'votingexp_ballotmissing_2020Nov',\n",
       "       'votingexp_ballotlate_2020Nov', 'votingexp_solong_2020Nov',\n",
       "       'vbm_fraud_2020Nov', 'inperson_fraud_2020Nov',\n",
       "       'vbm_effect_2020Nov', 'permanentharm_2020Nov', 'trumpapp_2020Nov',\n",
       "       'trumpapp_race_2020Nov', 'trumpapp_econ_2020Nov',\n",
       "       'trumpapp_covid_2020Nov', 'govapp_covid_2020Nov',\n",
       "       'covid_sickyou_2020Nov', 'covid_sickfamily_2020Nov',\n",
       "       'covid_sickwork_2020Nov', 'covid_sickfriend_2020Nov',\n",
       "       'covid_concern_2020Nov', 'covid_endrestrictions_2020Nov',\n",
       "       'fav_trump_2020Nov', 'fav_pence_2020Nov', 'fav_biden_2020Nov',\n",
       "       'fav_harris_2020Nov', 'ft_dem_2020Nov', 'ft_rep_2020Nov',\n",
       "       'ideo5_trump_2020Nov', 'ideo5_biden_2020Nov',\n",
       "       'ideo5_sanders_2020Nov', 'ideo5_clinton_2020Nov',\n",
       "       'ideo5_harris_2020Nov', 'ideo5_pence_2020Nov', 'ideo5_gop_2020Nov',\n",
       "       'ideo5_dems_2020Nov', 'trustgovt_2020Nov', 'inst_court_2020Nov',\n",
       "       'inst_media_2020Nov', 'inst_congress_2020Nov', 'inst_usps_2020Nov',\n",
       "       'inst_cdc_2020Nov', 'inst_justice_2020Nov', 'inst_FBI_2020Nov',\n",
       "       'inst_military_2020Nov', 'inst_church_2020Nov',\n",
       "       'inst_business_2020Nov', 'expert_trustordinary_2020Nov',\n",
       "       'expert_facts_2020Nov', 'expert_help_2020Nov',\n",
       "       'expert_struggle_2020Nov', 'electionsmatter_2020Nov',\n",
       "       'fairsociety_2020Nov', 'economicbias_2020Nov',\n",
       "       'beliefinmedia_2020Nov', 'nosay_2020Nov',\n",
       "       'eliteunderstand_2020Nov', 'people_trust_2020Nov',\n",
       "       'people_helpful_2020Nov', 'neighbor_trust_2020Nov',\n",
       "       'polcorrect_2020Nov', 'polclimate_2020Nov',\n",
       "       'usgovtstructure_2020Nov', 'court_fixterm_2020Nov',\n",
       "       'court_expand_2020Nov', 'filibuster_60_2020Nov',\n",
       "       'filibuster_51_2020Nov', 'pres_popvoteorec_2020Nov',\n",
       "       'issue_crime_2020Nov', 'issue_econ_2020Nov', 'issue_immig_2020Nov',\n",
       "       'issue_envi_2020Nov', 'issue_religlib_2020Nov',\n",
       "       'issue_terror_2020Nov', 'issue_gayrights_2020Nov',\n",
       "       'issue_educ_2020Nov', 'issue_fml_2020Nov',\n",
       "       'issue_healthcare_2020Nov', 'issue_moneypol_2020Nov',\n",
       "       'issue_climatechange_2020Nov', 'issue_socsec_2020Nov',\n",
       "       'issue_infra_2020Nov', 'issue_jobs_2020Nov',\n",
       "       'issue_budget_2020Nov', 'issue_poverty_2020Nov',\n",
       "       'issue_taxes_2020Nov', 'issue_medicare_2020Nov',\n",
       "       'issue_abort_2020Nov', 'issue_govsize_2020Nov',\n",
       "       'issue_raceeq_2020Nov', 'issue_gendereq_2020Nov',\n",
       "       'issue_covid_2020Nov', 'issue_policereform_2020Nov',\n",
       "       'taxdoug_2020Nov', 'tradepolicy_2020Nov',\n",
       "       'immi_contribution_2020Nov', 'immi_naturalize_2020Nov',\n",
       "       'immi_muslim_2020Nov', 'immi_makedifficult_2020Nov',\n",
       "       'univhealthcov_2020Nov', 'view_abortlegal_2020Nov',\n",
       "       'roevwade_2020Nov', 'view_gaymar_2020Nov',\n",
       "       'view_transgender_2020Nov', 'usa_becitizen_2020Nov',\n",
       "       'usa_ashamed_2020Nov', 'usa_belikeus_2020Nov',\n",
       "       'usa_proud_dem_2020Nov', 'usa_proud_history_2020Nov',\n",
       "       'usa_proud_fair_2020Nov', 'us_respect_2020Nov',\n",
       "       'rm1_enriched_2020Nov', 'rm2_workforce_2020Nov',\n",
       "       'rm3_demands_2020Nov', 'rm4_enoughjobs_2020Nov',\n",
       "       'gendereq_opp_2020Nov', 'sexism_roles_2020Nov',\n",
       "       'sexism_equality_2020Nov', 'sexism_jobs_2020Nov',\n",
       "       'sexism_complain_2020Nov', 'sexism_workplace_2020Nov',\n",
       "       'sexism_moreopps_2020Nov', 'threatenleaders_dem_2020Nov',\n",
       "       'threatenleaders_rep_2020Nov', 'threatenleaders_ind_2020Nov',\n",
       "       'internetharass_dem_2020Nov', 'internetharass_rep_2020Nov',\n",
       "       'internetharass_ind_2020Nov', 'politicalviolence_dem_2020Nov',\n",
       "       'politicalviolence_rep_2020Nov', 'politicalviolence_ind_2020Nov',\n",
       "       'presvote20_violence_2020Nov', 'volunteer_2020Nov',\n",
       "       'volunteer_infreq_2020Nov', 'pid3_2020Nov', 'pid7_2020Nov',\n",
       "       'ideo5_2020Nov', 'HouseCand1Name_2020Nov',\n",
       "       'HouseCand2Name_2020Nov', 'HouseCand3Name_2020Nov',\n",
       "       'HouseCand4Name_2020Nov', 'HouseCand5Name_2020Nov',\n",
       "       'HouseCand6Name_2020Nov', 'HouseCand7Name_2020Nov',\n",
       "       'HouseCand8Name_2020Nov', 'HouseCand9Name_2020Nov',\n",
       "       'HouseCand1Party_2020Nov', 'HouseCand2Party_2020Nov',\n",
       "       'HouseCand3Party_2020Nov', 'HouseCand4Party_2020Nov',\n",
       "       'HouseCand5Party_2020Nov', 'HouseCand6Party_2020Nov',\n",
       "       'HouseCand7Party_2020Nov', 'HouseCand8Party_2020Nov',\n",
       "       'HouseCand9Party_2020Nov', 'SenCand1Name_2020Nov',\n",
       "       'SenCand2Name_2020Nov', 'SenCand1Party_2020Nov',\n",
       "       'SenCand2Party_2020Nov', 'SenCand1Name2_2020Nov',\n",
       "       'SenCand2Name2_2020Nov', 'SenCand3Name2_2020Nov',\n",
       "       'SenCand4Name2_2020Nov', 'SenCand5Name2_2020Nov',\n",
       "       'SenCand6Name2_2020Nov', 'SenCand1Party2_2020Nov',\n",
       "       'SenCand2Party2_2020Nov', 'SenCand3Party2_2020Nov',\n",
       "       'SenCand4Party2_2020Nov', 'SenCand5Party2_2020Nov',\n",
       "       'SenCand6Party2_2020Nov', 'GovCand1Name_2020Nov',\n",
       "       'GovCand2Name_2020Nov', 'GovCand1Party_2020Nov',\n",
       "       'GovCand2Party_2020Nov', 'starttime_2020Nov', 'endtime_2020Nov',\n",
       "       'vf_matched_2020Nov', 'vf_status_2020Nov', 'vf_partyreg_2020Nov',\n",
       "       'vf_g2020_2020Nov', 'vf_p2020_2020Nov', 'vf_pp2020_2020Nov',\n",
       "       'vf_p2020_party_2020Nov', 'vf_pp2020_party_2020Nov',\n",
       "       'weight_genpop_2020Sep', 'track_2020Sep', 'econtrend_2020Sep',\n",
       "       'persfinretro_2020Sep', 'votereg_2020Sep', 'inputstate_2020Sep',\n",
       "       'trumpapp_2020Sep', 'fav_trump_2020Sep', 'fav_pence_2020Sep',\n",
       "       'fav_biden_2020Sep', 'fav_sanders_2020Sep', 'fav_harris_2020Sep',\n",
       "       'fav_obama_2020Sep', 'fav_hrc_2020Sep', 'ft_dem_2020Sep',\n",
       "       'ft_rep_2020Sep', 'ft_black_2020Sep', 'ft_white_2020Sep',\n",
       "       'ft_asian_2020Sep', 'ft_latino_2020Sep', 'ft_jew_2020Sep',\n",
       "       'ft_muslim_2020Sep', 'ft_gay_2020Sep', 'ft_immig_2020Sep',\n",
       "       'ft_wec_2020Sep', 'ft_whitem_2020Sep', 'ft_blm_2020Sep',\n",
       "       'ft_altright_2020Sep', 'ft_police_2020Sep',\n",
       "       'emotion_anger_2020Sep', 'emotion_anxiety_2020Sep',\n",
       "       'emotion_disgust_2020Sep', 'emotion_sadness_2020Sep',\n",
       "       'emotion_hope_2020Sep', 'emotion_enthusiasm_2020Sep',\n",
       "       'presvote16_2020Sep', 'votemeth16_2020Sep',\n",
       "       'primaryturnout_2020Sep', 'demprimary20post_2020Sep',\n",
       "       'demprimary20post_t_2020Sep', 'repprimary20post_2020Sep',\n",
       "       'repprimary20post_t_2020Sep', 'voteintent_2020Sep',\n",
       "       'votemeth_2020Sep', 'presvote_2020Sep', 'presvote_force_2020Sep',\n",
       "       'presvote20pre_forag_a_2020Sep', 'presvote20pre_forag_b_2020Sep',\n",
       "       'housevote_2020Sep', 'housevote_force_2020Sep',\n",
       "       'senatevote_2020Sep', 'senatevote_force_2020Sep',\n",
       "       'governorvote_2020Sep', 'governorvote_force_2020Sep',\n",
       "       'intendedcount_comm_2020Sep', 'intendedcount_country_2020Sep',\n",
       "       'acceptresult_loser_2020Sep', 'trumpapp_covid_2020Sep',\n",
       "       'govapp_covid_2020Sep', 'covid_sickyou_2020Sep',\n",
       "       'covid_sickfamily_2020Sep', 'covid_sickwork_2020Sep',\n",
       "       'covid_sickfriend_2020Sep', 'covid_concern_2020Sep',\n",
       "       'covid_endrestrictions_2020Sep', 'covid_impact_black_2020Sep',\n",
       "       'covid_impact_white_2020Sep', 'covid_impact_hispanic_2020Sep',\n",
       "       'covid_impact_asian_2020Sep', 'covid_impact_older_2020Sep',\n",
       "       'covid_impact_younger_2020Sep', 'covid_impact_wealthy_2020Sep',\n",
       "       'covid_impact_working_2020Sep', 'covid_restrict_gathering_2020Sep',\n",
       "       'covid_restrict_business_2020Sep', 'covid_restrict_school_2020Sep',\n",
       "       'covid_restrict_wfh_2020Sep', 'covid_restrict_travel_2020Sep',\n",
       "       'covid_restrict_stayhome_2020Sep', 'covid_restrict_test_2020Sep',\n",
       "       'covid_voteinperson_2020Sep', 'votemeth_vbm_ever_2020Sep',\n",
       "       'vbm_fraud_2020Sep', 'inperson_fraud_2020Sep',\n",
       "       'vbm_effect_2020Sep', 'trumpapp_race_2020Sep',\n",
       "       'discrim_white_2020Sep', 'discrim_black_2020Sep',\n",
       "       'discrim_hispanic_2020Sep', 'discrim_asian_2020Sep',\n",
       "       'discrim_personal_2020Sep', 'affirmativeaction_2020Sep',\n",
       "       'reparations_2020Sep', 'defundpolice_2020Sep',\n",
       "       'decreasepolice_2020Sep', 'eliminateprotection_2020Sep',\n",
       "       'banchokehold_2020Sep', 'civilianoversight_2020Sep',\n",
       "       'protest_support_2020Sep', 'protest_conduct_2020Sep',\n",
       "       'protest_policeresponse_2020Sep', 'disc_policyfavor_2020Sep',\n",
       "       'race_deservemore_2020Sep', 'race_overcome_2020Sep',\n",
       "       'race_tryharder_2020Sep', 'race_slave_2020Sep',\n",
       "       'discrim_reverse_2020Sep', 'disc_increasedopp_2020Sep',\n",
       "       'disc_whiteenjoy_2020Sep', 'disc_whiteadvantage_2020Sep',\n",
       "       'disc_whiteguilt_2020Sep', 'disc_minorityfair_2020Sep',\n",
       "       'disc_womenfair_2020Sep', 'police_threat_2020Sep',\n",
       "       'usa_founders_2020Sep', 'finance_worry_2020Sep',\n",
       "       'finance_savings_2020Sep', 'finance_unexpected_2020Sep',\n",
       "       'finance_event_lost_job_2020Sep',\n",
       "       'finance_event_spouse_job_2020Sep', 'finance_event_rent_2020Sep',\n",
       "       'finance_event_loan_2020Sep', 'finance_event_car_2020Sep',\n",
       "       'finance_event_credit_2020Sep', 'finance_event_income_2020Sep',\n",
       "       'govt_econinvolve_2020Sep', 'election_trumploss_2020Sep',\n",
       "       'election_demloss_2020Sep', 'election_ecloss_2020Sep',\n",
       "       'pid3_2020Sep', 'pid7_2020Sep', 'threatenleaders_dem_2020Sep',\n",
       "       'threatenleaders_rep_2020Sep', 'threatenleaders_ind_2020Sep',\n",
       "       'internetharass_dem_2020Sep', 'internetharass_rep_2020Sep',\n",
       "       'internetharass_ind_2020Sep', 'politicalviolence_dem_2020Sep',\n",
       "       'politicalviolence_rep_2020Sep', 'politicalviolence_ind_2020Sep',\n",
       "       'violencepostelection_dem_2020Sep',\n",
       "       'violencepostelection_rep_2020Sep',\n",
       "       'violencepostelection_ind_2020Sep', 'sexuality_2020Sep',\n",
       "       'genderchange_2020Sep', 'race_fate_2020Sep',\n",
       "       'race_importance_2020Sep', 'lookingforjob_2020Sep',\n",
       "       'household_child_num_2020Sep', 'household_adults_2020Sep',\n",
       "       'household_status_2020Sep', 'newsint_2020Sep',\n",
       "       'laborunionmember_2020Sep', 'gunowner_2020Sep', 'birthyr_2020Sep',\n",
       "       'gender_2020Sep', 'race_2020Sep', 'educ_2020Sep',\n",
       "       'marstat_2020Sep', 'employment_2020Sep', 'faminc_2020Sep',\n",
       "       'ideo5_2020Sep', 'child18_2020Sep', 'religion_2020Sep',\n",
       "       'religservice_2020Sep', 'bornagain_2020Sep', 'religimp_2020Sep',\n",
       "       'pew_prayer_2020Sep', 'starttime_2020Sep', 'endtime_2020Sep'],\n",
       "      dtype=object)"
      ]
     },
     "execution_count": 214,
     "metadata": {},
     "output_type": "execute_result"
    }
   ],
   "source": [
    "df.columns.values"
   ]
  },
  {
   "cell_type": "code",
   "execution_count": 215,
   "metadata": {},
   "outputs": [],
   "source": [
    "research = ['emotion_sadness_2020Sep']"
   ]
  },
  {
   "cell_type": "code",
   "execution_count": 216,
   "metadata": {},
   "outputs": [
    {
     "data": {
      "text/plain": [
       "emotion_sadness_2020Sep\n",
       "1                          0.088136\n",
       "2                          0.053559\n",
       "3                          0.077119\n",
       "4                          0.141695\n",
       "5                          0.169322\n",
       "6                          0.174576\n",
       "7                          0.294746\n",
       "98                         0.000847\n",
       "dtype: float64"
      ]
     },
     "execution_count": 216,
     "metadata": {},
     "output_type": "execute_result"
    }
   ],
   "source": [
    "df[research].value_counts(normalize = True).sort_index()"
   ]
  },
  {
   "cell_type": "markdown",
   "metadata": {},
   "source": [
    "^^^A person who responded with a 98 means that they skipped the question. ^^^"
   ]
  },
  {
   "cell_type": "code",
   "execution_count": 217,
   "metadata": {},
   "outputs": [
    {
     "data": {
      "text/plain": [
       "array([ 5,  3,  7,  6,  4,  2,  1, 98])"
      ]
     },
     "execution_count": 217,
     "metadata": {},
     "output_type": "execute_result"
    }
   ],
   "source": [
    "df['emotion_sadness_2020Sep'].unique()"
   ]
  },
  {
   "cell_type": "code",
   "execution_count": 218,
   "metadata": {},
   "outputs": [
    {
     "data": {
      "text/html": [
       "<div>\n",
       "<style scoped>\n",
       "    .dataframe tbody tr th:only-of-type {\n",
       "        vertical-align: middle;\n",
       "    }\n",
       "\n",
       "    .dataframe tbody tr th {\n",
       "        vertical-align: top;\n",
       "    }\n",
       "\n",
       "    .dataframe thead th {\n",
       "        text-align: right;\n",
       "    }\n",
       "</style>\n",
       "<table border=\"1\" class=\"dataframe\">\n",
       "  <thead>\n",
       "    <tr style=\"text-align: right;\">\n",
       "      <th></th>\n",
       "      <th>weight_genpop_2020Nov</th>\n",
       "      <th>cdid_2020Nov</th>\n",
       "      <th>inputstate_2020Nov</th>\n",
       "      <th>track_2020Nov</th>\n",
       "      <th>econtrend_2020Nov</th>\n",
       "      <th>persfinretro_2020Nov</th>\n",
       "      <th>standards_children_2020Nov</th>\n",
       "      <th>values_culture_2020Nov</th>\n",
       "      <th>turnout_2020Nov</th>\n",
       "      <th>votemeth_2020Nov</th>\n",
       "      <th>...</th>\n",
       "      <th>faminc_2020Sep</th>\n",
       "      <th>ideo5_2020Sep</th>\n",
       "      <th>child18_2020Sep</th>\n",
       "      <th>religion_2020Sep</th>\n",
       "      <th>religservice_2020Sep</th>\n",
       "      <th>bornagain_2020Sep</th>\n",
       "      <th>religimp_2020Sep</th>\n",
       "      <th>pew_prayer_2020Sep</th>\n",
       "      <th>starttime_2020Sep</th>\n",
       "      <th>endtime_2020Sep</th>\n",
       "    </tr>\n",
       "  </thead>\n",
       "  <tbody>\n",
       "    <tr>\n",
       "      <th>0</th>\n",
       "      <td>0.617408</td>\n",
       "      <td>2</td>\n",
       "      <td>6.0</td>\n",
       "      <td>2.0</td>\n",
       "      <td>3.0</td>\n",
       "      <td>2.0</td>\n",
       "      <td>1.0</td>\n",
       "      <td>2.0</td>\n",
       "      <td>1.0</td>\n",
       "      <td>3.0</td>\n",
       "      <td>...</td>\n",
       "      <td>7</td>\n",
       "      <td>3</td>\n",
       "      <td>2</td>\n",
       "      <td>2</td>\n",
       "      <td>5.0</td>\n",
       "      <td>2</td>\n",
       "      <td>2</td>\n",
       "      <td>5</td>\n",
       "      <td>04 Sep 20</td>\n",
       "      <td>04 Sep 20</td>\n",
       "    </tr>\n",
       "    <tr>\n",
       "      <th>1</th>\n",
       "      <td>NaN</td>\n",
       "      <td></td>\n",
       "      <td>NaN</td>\n",
       "      <td>NaN</td>\n",
       "      <td>NaN</td>\n",
       "      <td>NaN</td>\n",
       "      <td>NaN</td>\n",
       "      <td>NaN</td>\n",
       "      <td>NaN</td>\n",
       "      <td>NaN</td>\n",
       "      <td>...</td>\n",
       "      <td>6</td>\n",
       "      <td>3</td>\n",
       "      <td>2</td>\n",
       "      <td>10</td>\n",
       "      <td>6.0</td>\n",
       "      <td>2</td>\n",
       "      <td>4</td>\n",
       "      <td>6</td>\n",
       "      <td>29 Aug 20</td>\n",
       "      <td>29 Aug 20</td>\n",
       "    </tr>\n",
       "    <tr>\n",
       "      <th>2</th>\n",
       "      <td>0.513165</td>\n",
       "      <td>1</td>\n",
       "      <td>50.0</td>\n",
       "      <td>2.0</td>\n",
       "      <td>3.0</td>\n",
       "      <td>3.0</td>\n",
       "      <td>2.0</td>\n",
       "      <td>2.0</td>\n",
       "      <td>1.0</td>\n",
       "      <td>3.0</td>\n",
       "      <td>...</td>\n",
       "      <td>3</td>\n",
       "      <td>2</td>\n",
       "      <td>2</td>\n",
       "      <td>9</td>\n",
       "      <td>6.0</td>\n",
       "      <td>2</td>\n",
       "      <td>4</td>\n",
       "      <td>7</td>\n",
       "      <td>01 Sep 20</td>\n",
       "      <td>01 Sep 20</td>\n",
       "    </tr>\n",
       "    <tr>\n",
       "      <th>3</th>\n",
       "      <td>NaN</td>\n",
       "      <td></td>\n",
       "      <td>NaN</td>\n",
       "      <td>NaN</td>\n",
       "      <td>NaN</td>\n",
       "      <td>NaN</td>\n",
       "      <td>NaN</td>\n",
       "      <td>NaN</td>\n",
       "      <td>NaN</td>\n",
       "      <td>NaN</td>\n",
       "      <td>...</td>\n",
       "      <td>11</td>\n",
       "      <td>2</td>\n",
       "      <td>2</td>\n",
       "      <td>11</td>\n",
       "      <td>5.0</td>\n",
       "      <td>2</td>\n",
       "      <td>2</td>\n",
       "      <td>1</td>\n",
       "      <td>08 Sep 20</td>\n",
       "      <td>08 Sep 20</td>\n",
       "    </tr>\n",
       "    <tr>\n",
       "      <th>4</th>\n",
       "      <td>0.567885</td>\n",
       "      <td>2</td>\n",
       "      <td>4.0</td>\n",
       "      <td>2.0</td>\n",
       "      <td>3.0</td>\n",
       "      <td>2.0</td>\n",
       "      <td>2.0</td>\n",
       "      <td>1.0</td>\n",
       "      <td>1.0</td>\n",
       "      <td>3.0</td>\n",
       "      <td>...</td>\n",
       "      <td>10</td>\n",
       "      <td>1</td>\n",
       "      <td>2</td>\n",
       "      <td>12</td>\n",
       "      <td>2.0</td>\n",
       "      <td>2</td>\n",
       "      <td>2</td>\n",
       "      <td>7</td>\n",
       "      <td>29 Aug 20</td>\n",
       "      <td>29 Aug 20</td>\n",
       "    </tr>\n",
       "    <tr>\n",
       "      <th>...</th>\n",
       "      <td>...</td>\n",
       "      <td>...</td>\n",
       "      <td>...</td>\n",
       "      <td>...</td>\n",
       "      <td>...</td>\n",
       "      <td>...</td>\n",
       "      <td>...</td>\n",
       "      <td>...</td>\n",
       "      <td>...</td>\n",
       "      <td>...</td>\n",
       "      <td>...</td>\n",
       "      <td>...</td>\n",
       "      <td>...</td>\n",
       "      <td>...</td>\n",
       "      <td>...</td>\n",
       "      <td>...</td>\n",
       "      <td>...</td>\n",
       "      <td>...</td>\n",
       "      <td>...</td>\n",
       "      <td>...</td>\n",
       "      <td>...</td>\n",
       "    </tr>\n",
       "    <tr>\n",
       "      <th>5895</th>\n",
       "      <td>0.799748</td>\n",
       "      <td>1</td>\n",
       "      <td>16.0</td>\n",
       "      <td>2.0</td>\n",
       "      <td>1.0</td>\n",
       "      <td>2.0</td>\n",
       "      <td>1.0</td>\n",
       "      <td>1.0</td>\n",
       "      <td>1.0</td>\n",
       "      <td>3.0</td>\n",
       "      <td>...</td>\n",
       "      <td>97</td>\n",
       "      <td>2</td>\n",
       "      <td>2</td>\n",
       "      <td>9</td>\n",
       "      <td>6.0</td>\n",
       "      <td>2</td>\n",
       "      <td>4</td>\n",
       "      <td>7</td>\n",
       "      <td>27 Sep 20</td>\n",
       "      <td>27 Sep 20</td>\n",
       "    </tr>\n",
       "    <tr>\n",
       "      <th>5896</th>\n",
       "      <td>1.440486</td>\n",
       "      <td>14</td>\n",
       "      <td>17.0</td>\n",
       "      <td>2.0</td>\n",
       "      <td>3.0</td>\n",
       "      <td>2.0</td>\n",
       "      <td>3.0</td>\n",
       "      <td>3.0</td>\n",
       "      <td>2.0</td>\n",
       "      <td>9.0</td>\n",
       "      <td>...</td>\n",
       "      <td>7</td>\n",
       "      <td>1</td>\n",
       "      <td>1</td>\n",
       "      <td>12</td>\n",
       "      <td>1.0</td>\n",
       "      <td>2</td>\n",
       "      <td>1</td>\n",
       "      <td>1</td>\n",
       "      <td>27 Sep 20</td>\n",
       "      <td>27 Sep 20</td>\n",
       "    </tr>\n",
       "    <tr>\n",
       "      <th>5897</th>\n",
       "      <td>0.799748</td>\n",
       "      <td>6</td>\n",
       "      <td>29.0</td>\n",
       "      <td>3.0</td>\n",
       "      <td>4.0</td>\n",
       "      <td>3.0</td>\n",
       "      <td>4.0</td>\n",
       "      <td>3.0</td>\n",
       "      <td>1.0</td>\n",
       "      <td>2.0</td>\n",
       "      <td>...</td>\n",
       "      <td>3</td>\n",
       "      <td>2</td>\n",
       "      <td>2</td>\n",
       "      <td>11</td>\n",
       "      <td>6.0</td>\n",
       "      <td>2</td>\n",
       "      <td>2</td>\n",
       "      <td>6</td>\n",
       "      <td>27 Sep 20</td>\n",
       "      <td>27 Sep 20</td>\n",
       "    </tr>\n",
       "    <tr>\n",
       "      <th>5898</th>\n",
       "      <td>NaN</td>\n",
       "      <td></td>\n",
       "      <td>NaN</td>\n",
       "      <td>NaN</td>\n",
       "      <td>NaN</td>\n",
       "      <td>NaN</td>\n",
       "      <td>NaN</td>\n",
       "      <td>NaN</td>\n",
       "      <td>NaN</td>\n",
       "      <td>NaN</td>\n",
       "      <td>...</td>\n",
       "      <td>14</td>\n",
       "      <td>3</td>\n",
       "      <td>2</td>\n",
       "      <td>1</td>\n",
       "      <td>5.0</td>\n",
       "      <td>2</td>\n",
       "      <td>2</td>\n",
       "      <td>6</td>\n",
       "      <td>27 Sep 20</td>\n",
       "      <td>27 Sep 20</td>\n",
       "    </tr>\n",
       "    <tr>\n",
       "      <th>5899</th>\n",
       "      <td>NaN</td>\n",
       "      <td></td>\n",
       "      <td>NaN</td>\n",
       "      <td>NaN</td>\n",
       "      <td>NaN</td>\n",
       "      <td>NaN</td>\n",
       "      <td>NaN</td>\n",
       "      <td>NaN</td>\n",
       "      <td>NaN</td>\n",
       "      <td>NaN</td>\n",
       "      <td>...</td>\n",
       "      <td>10</td>\n",
       "      <td>3</td>\n",
       "      <td>2</td>\n",
       "      <td>1</td>\n",
       "      <td>2.0</td>\n",
       "      <td>1</td>\n",
       "      <td>1</td>\n",
       "      <td>1</td>\n",
       "      <td>27 Sep 20</td>\n",
       "      <td>27 Sep 20</td>\n",
       "    </tr>\n",
       "  </tbody>\n",
       "</table>\n",
       "<p>5900 rows × 389 columns</p>\n",
       "</div>"
      ],
      "text/plain": [
       "      weight_genpop_2020Nov cdid_2020Nov  inputstate_2020Nov  track_2020Nov  \\\n",
       "0                  0.617408            2                 6.0            2.0   \n",
       "1                       NaN                              NaN            NaN   \n",
       "2                  0.513165            1                50.0            2.0   \n",
       "3                       NaN                              NaN            NaN   \n",
       "4                  0.567885            2                 4.0            2.0   \n",
       "...                     ...          ...                 ...            ...   \n",
       "5895               0.799748            1                16.0            2.0   \n",
       "5896               1.440486           14                17.0            2.0   \n",
       "5897               0.799748            6                29.0            3.0   \n",
       "5898                    NaN                              NaN            NaN   \n",
       "5899                    NaN                              NaN            NaN   \n",
       "\n",
       "      econtrend_2020Nov  persfinretro_2020Nov  standards_children_2020Nov  \\\n",
       "0                   3.0                   2.0                         1.0   \n",
       "1                   NaN                   NaN                         NaN   \n",
       "2                   3.0                   3.0                         2.0   \n",
       "3                   NaN                   NaN                         NaN   \n",
       "4                   3.0                   2.0                         2.0   \n",
       "...                 ...                   ...                         ...   \n",
       "5895                1.0                   2.0                         1.0   \n",
       "5896                3.0                   2.0                         3.0   \n",
       "5897                4.0                   3.0                         4.0   \n",
       "5898                NaN                   NaN                         NaN   \n",
       "5899                NaN                   NaN                         NaN   \n",
       "\n",
       "      values_culture_2020Nov  turnout_2020Nov  votemeth_2020Nov  ...  \\\n",
       "0                        2.0              1.0               3.0  ...   \n",
       "1                        NaN              NaN               NaN  ...   \n",
       "2                        2.0              1.0               3.0  ...   \n",
       "3                        NaN              NaN               NaN  ...   \n",
       "4                        1.0              1.0               3.0  ...   \n",
       "...                      ...              ...               ...  ...   \n",
       "5895                     1.0              1.0               3.0  ...   \n",
       "5896                     3.0              2.0               9.0  ...   \n",
       "5897                     3.0              1.0               2.0  ...   \n",
       "5898                     NaN              NaN               NaN  ...   \n",
       "5899                     NaN              NaN               NaN  ...   \n",
       "\n",
       "      faminc_2020Sep  ideo5_2020Sep child18_2020Sep  religion_2020Sep  \\\n",
       "0                  7              3               2                 2   \n",
       "1                  6              3               2                10   \n",
       "2                  3              2               2                 9   \n",
       "3                 11              2               2                11   \n",
       "4                 10              1               2                12   \n",
       "...              ...            ...             ...               ...   \n",
       "5895              97              2               2                 9   \n",
       "5896               7              1               1                12   \n",
       "5897               3              2               2                11   \n",
       "5898              14              3               2                 1   \n",
       "5899              10              3               2                 1   \n",
       "\n",
       "      religservice_2020Sep  bornagain_2020Sep  religimp_2020Sep  \\\n",
       "0                      5.0                  2                 2   \n",
       "1                      6.0                  2                 4   \n",
       "2                      6.0                  2                 4   \n",
       "3                      5.0                  2                 2   \n",
       "4                      2.0                  2                 2   \n",
       "...                    ...                ...               ...   \n",
       "5895                   6.0                  2                 4   \n",
       "5896                   1.0                  2                 1   \n",
       "5897                   6.0                  2                 2   \n",
       "5898                   5.0                  2                 2   \n",
       "5899                   2.0                  1                 1   \n",
       "\n",
       "      pew_prayer_2020Sep  starttime_2020Sep  endtime_2020Sep  \n",
       "0                      5          04 Sep 20        04 Sep 20  \n",
       "1                      6          29 Aug 20        29 Aug 20  \n",
       "2                      7          01 Sep 20        01 Sep 20  \n",
       "3                      1          08 Sep 20        08 Sep 20  \n",
       "4                      7          29 Aug 20        29 Aug 20  \n",
       "...                  ...                ...              ...  \n",
       "5895                   7          27 Sep 20        27 Sep 20  \n",
       "5896                   1          27 Sep 20        27 Sep 20  \n",
       "5897                   6          27 Sep 20        27 Sep 20  \n",
       "5898                   6          27 Sep 20        27 Sep 20  \n",
       "5899                   1          27 Sep 20        27 Sep 20  \n",
       "\n",
       "[5900 rows x 389 columns]"
      ]
     },
     "execution_count": 218,
     "metadata": {},
     "output_type": "execute_result"
    }
   ],
   "source": [
    "outlier = [98]\n",
    "df1 = pd.read_csv('voter_2020.csv', encoding = 'cp1252', na_values = outlier ) \n",
    "df1"
   ]
  },
  {
   "cell_type": "code",
   "execution_count": 219,
   "metadata": {},
   "outputs": [
    {
     "data": {
      "text/plain": [
       "array([ 5.,  3.,  7.,  6.,  4.,  2.,  1., nan])"
      ]
     },
     "execution_count": 219,
     "metadata": {},
     "output_type": "execute_result"
    }
   ],
   "source": [
    "df1['emotion_sadness_2020Sep'].unique()"
   ]
  },
  {
   "cell_type": "code",
   "execution_count": 255,
   "metadata": {},
   "outputs": [
    {
     "data": {
      "text/html": [
       "<div>\n",
       "<style scoped>\n",
       "    .dataframe tbody tr th:only-of-type {\n",
       "        vertical-align: middle;\n",
       "    }\n",
       "\n",
       "    .dataframe tbody tr th {\n",
       "        vertical-align: top;\n",
       "    }\n",
       "\n",
       "    .dataframe thead th {\n",
       "        text-align: right;\n",
       "    }\n",
       "</style>\n",
       "<table border=\"1\" class=\"dataframe\">\n",
       "  <thead>\n",
       "    <tr style=\"text-align: right;\">\n",
       "      <th></th>\n",
       "      <th>weight_genpop_2020Nov</th>\n",
       "      <th>cdid_2020Nov</th>\n",
       "      <th>inputstate_2020Nov</th>\n",
       "      <th>track_2020Nov</th>\n",
       "      <th>econtrend_2020Nov</th>\n",
       "      <th>persfinretro_2020Nov</th>\n",
       "      <th>standards_children_2020Nov</th>\n",
       "      <th>values_culture_2020Nov</th>\n",
       "      <th>turnout_2020Nov</th>\n",
       "      <th>votemeth_2020Nov</th>\n",
       "      <th>...</th>\n",
       "      <th>faminc_2020Sep</th>\n",
       "      <th>ideo5_2020Sep</th>\n",
       "      <th>child18_2020Sep</th>\n",
       "      <th>religion_2020Sep</th>\n",
       "      <th>religservice_2020Sep</th>\n",
       "      <th>bornagain_2020Sep</th>\n",
       "      <th>religimp_2020Sep</th>\n",
       "      <th>pew_prayer_2020Sep</th>\n",
       "      <th>starttime_2020Sep</th>\n",
       "      <th>endtime_2020Sep</th>\n",
       "    </tr>\n",
       "  </thead>\n",
       "  <tbody>\n",
       "    <tr>\n",
       "      <th>0</th>\n",
       "      <td>0.617408</td>\n",
       "      <td>2</td>\n",
       "      <td>6.0</td>\n",
       "      <td>2.0</td>\n",
       "      <td>3.0</td>\n",
       "      <td>2.0</td>\n",
       "      <td>1.0</td>\n",
       "      <td>2.0</td>\n",
       "      <td>1.0</td>\n",
       "      <td>3.0</td>\n",
       "      <td>...</td>\n",
       "      <td>7</td>\n",
       "      <td>3</td>\n",
       "      <td>2</td>\n",
       "      <td>2</td>\n",
       "      <td>5.0</td>\n",
       "      <td>2</td>\n",
       "      <td>2</td>\n",
       "      <td>5</td>\n",
       "      <td>04 Sep 20</td>\n",
       "      <td>04 Sep 20</td>\n",
       "    </tr>\n",
       "    <tr>\n",
       "      <th>2</th>\n",
       "      <td>0.513165</td>\n",
       "      <td>1</td>\n",
       "      <td>50.0</td>\n",
       "      <td>2.0</td>\n",
       "      <td>3.0</td>\n",
       "      <td>3.0</td>\n",
       "      <td>2.0</td>\n",
       "      <td>2.0</td>\n",
       "      <td>1.0</td>\n",
       "      <td>3.0</td>\n",
       "      <td>...</td>\n",
       "      <td>3</td>\n",
       "      <td>2</td>\n",
       "      <td>2</td>\n",
       "      <td>9</td>\n",
       "      <td>6.0</td>\n",
       "      <td>2</td>\n",
       "      <td>4</td>\n",
       "      <td>7</td>\n",
       "      <td>01 Sep 20</td>\n",
       "      <td>01 Sep 20</td>\n",
       "    </tr>\n",
       "    <tr>\n",
       "      <th>4</th>\n",
       "      <td>0.567885</td>\n",
       "      <td>2</td>\n",
       "      <td>4.0</td>\n",
       "      <td>2.0</td>\n",
       "      <td>3.0</td>\n",
       "      <td>2.0</td>\n",
       "      <td>2.0</td>\n",
       "      <td>1.0</td>\n",
       "      <td>1.0</td>\n",
       "      <td>3.0</td>\n",
       "      <td>...</td>\n",
       "      <td>10</td>\n",
       "      <td>1</td>\n",
       "      <td>2</td>\n",
       "      <td>12</td>\n",
       "      <td>2.0</td>\n",
       "      <td>2</td>\n",
       "      <td>2</td>\n",
       "      <td>7</td>\n",
       "      <td>29 Aug 20</td>\n",
       "      <td>29 Aug 20</td>\n",
       "    </tr>\n",
       "    <tr>\n",
       "      <th>5</th>\n",
       "      <td>0.576963</td>\n",
       "      <td>1</td>\n",
       "      <td>31.0</td>\n",
       "      <td>2.0</td>\n",
       "      <td>3.0</td>\n",
       "      <td>3.0</td>\n",
       "      <td>4.0</td>\n",
       "      <td>3.0</td>\n",
       "      <td>1.0</td>\n",
       "      <td>3.0</td>\n",
       "      <td>...</td>\n",
       "      <td>9</td>\n",
       "      <td>2</td>\n",
       "      <td>2</td>\n",
       "      <td>12</td>\n",
       "      <td>4.0</td>\n",
       "      <td>2</td>\n",
       "      <td>3</td>\n",
       "      <td>3</td>\n",
       "      <td>29 Aug 20</td>\n",
       "      <td>29 Aug 20</td>\n",
       "    </tr>\n",
       "    <tr>\n",
       "      <th>6</th>\n",
       "      <td>0.469203</td>\n",
       "      <td>14</td>\n",
       "      <td>6.0</td>\n",
       "      <td>2.0</td>\n",
       "      <td>3.0</td>\n",
       "      <td>3.0</td>\n",
       "      <td>4.0</td>\n",
       "      <td>4.0</td>\n",
       "      <td>1.0</td>\n",
       "      <td>3.0</td>\n",
       "      <td>...</td>\n",
       "      <td>5</td>\n",
       "      <td>3</td>\n",
       "      <td>2</td>\n",
       "      <td>9</td>\n",
       "      <td>6.0</td>\n",
       "      <td>2</td>\n",
       "      <td>4</td>\n",
       "      <td>7</td>\n",
       "      <td>04 Sep 20</td>\n",
       "      <td>04 Sep 20</td>\n",
       "    </tr>\n",
       "    <tr>\n",
       "      <th>...</th>\n",
       "      <td>...</td>\n",
       "      <td>...</td>\n",
       "      <td>...</td>\n",
       "      <td>...</td>\n",
       "      <td>...</td>\n",
       "      <td>...</td>\n",
       "      <td>...</td>\n",
       "      <td>...</td>\n",
       "      <td>...</td>\n",
       "      <td>...</td>\n",
       "      <td>...</td>\n",
       "      <td>...</td>\n",
       "      <td>...</td>\n",
       "      <td>...</td>\n",
       "      <td>...</td>\n",
       "      <td>...</td>\n",
       "      <td>...</td>\n",
       "      <td>...</td>\n",
       "      <td>...</td>\n",
       "      <td>...</td>\n",
       "      <td>...</td>\n",
       "    </tr>\n",
       "    <tr>\n",
       "      <th>5891</th>\n",
       "      <td>2.316973</td>\n",
       "      <td>3</td>\n",
       "      <td>27.0</td>\n",
       "      <td>2.0</td>\n",
       "      <td>2.0</td>\n",
       "      <td>2.0</td>\n",
       "      <td>1.0</td>\n",
       "      <td>2.0</td>\n",
       "      <td>1.0</td>\n",
       "      <td>1.0</td>\n",
       "      <td>...</td>\n",
       "      <td>97</td>\n",
       "      <td>3</td>\n",
       "      <td>2</td>\n",
       "      <td>10</td>\n",
       "      <td>6.0</td>\n",
       "      <td>2</td>\n",
       "      <td>4</td>\n",
       "      <td>6</td>\n",
       "      <td>27 Sep 20</td>\n",
       "      <td>27 Sep 20</td>\n",
       "    </tr>\n",
       "    <tr>\n",
       "      <th>5892</th>\n",
       "      <td>0.766103</td>\n",
       "      <td>9</td>\n",
       "      <td>17.0</td>\n",
       "      <td>2.0</td>\n",
       "      <td>3.0</td>\n",
       "      <td>2.0</td>\n",
       "      <td>4.0</td>\n",
       "      <td>4.0</td>\n",
       "      <td>1.0</td>\n",
       "      <td>3.0</td>\n",
       "      <td>...</td>\n",
       "      <td>7</td>\n",
       "      <td>2</td>\n",
       "      <td>2</td>\n",
       "      <td>12</td>\n",
       "      <td>5.0</td>\n",
       "      <td>2</td>\n",
       "      <td>2</td>\n",
       "      <td>6</td>\n",
       "      <td>27 Sep 20</td>\n",
       "      <td>27 Sep 20</td>\n",
       "    </tr>\n",
       "    <tr>\n",
       "      <th>5893</th>\n",
       "      <td>1.825275</td>\n",
       "      <td>1</td>\n",
       "      <td>28.0</td>\n",
       "      <td>2.0</td>\n",
       "      <td>3.0</td>\n",
       "      <td>2.0</td>\n",
       "      <td>3.0</td>\n",
       "      <td>2.0</td>\n",
       "      <td>2.0</td>\n",
       "      <td>9.0</td>\n",
       "      <td>...</td>\n",
       "      <td>8</td>\n",
       "      <td>3</td>\n",
       "      <td>2</td>\n",
       "      <td>1</td>\n",
       "      <td>6.0</td>\n",
       "      <td>1</td>\n",
       "      <td>1</td>\n",
       "      <td>3</td>\n",
       "      <td>27 Sep 20</td>\n",
       "      <td>27 Sep 20</td>\n",
       "    </tr>\n",
       "    <tr>\n",
       "      <th>5894</th>\n",
       "      <td>3.824145</td>\n",
       "      <td>44</td>\n",
       "      <td>6.0</td>\n",
       "      <td>2.0</td>\n",
       "      <td>3.0</td>\n",
       "      <td>2.0</td>\n",
       "      <td>4.0</td>\n",
       "      <td>3.0</td>\n",
       "      <td>2.0</td>\n",
       "      <td>9.0</td>\n",
       "      <td>...</td>\n",
       "      <td>1</td>\n",
       "      <td>1</td>\n",
       "      <td>1</td>\n",
       "      <td>11</td>\n",
       "      <td>6.0</td>\n",
       "      <td>2</td>\n",
       "      <td>3</td>\n",
       "      <td>7</td>\n",
       "      <td>27 Sep 20</td>\n",
       "      <td>27 Sep 20</td>\n",
       "    </tr>\n",
       "    <tr>\n",
       "      <th>5896</th>\n",
       "      <td>1.440486</td>\n",
       "      <td>14</td>\n",
       "      <td>17.0</td>\n",
       "      <td>2.0</td>\n",
       "      <td>3.0</td>\n",
       "      <td>2.0</td>\n",
       "      <td>3.0</td>\n",
       "      <td>3.0</td>\n",
       "      <td>2.0</td>\n",
       "      <td>9.0</td>\n",
       "      <td>...</td>\n",
       "      <td>7</td>\n",
       "      <td>1</td>\n",
       "      <td>1</td>\n",
       "      <td>12</td>\n",
       "      <td>1.0</td>\n",
       "      <td>2</td>\n",
       "      <td>1</td>\n",
       "      <td>1</td>\n",
       "      <td>27 Sep 20</td>\n",
       "      <td>27 Sep 20</td>\n",
       "    </tr>\n",
       "  </tbody>\n",
       "</table>\n",
       "<p>4123 rows × 389 columns</p>\n",
       "</div>"
      ],
      "text/plain": [
       "      weight_genpop_2020Nov cdid_2020Nov  inputstate_2020Nov  track_2020Nov  \\\n",
       "0                  0.617408            2                 6.0            2.0   \n",
       "2                  0.513165            1                50.0            2.0   \n",
       "4                  0.567885            2                 4.0            2.0   \n",
       "5                  0.576963            1                31.0            2.0   \n",
       "6                  0.469203           14                 6.0            2.0   \n",
       "...                     ...          ...                 ...            ...   \n",
       "5891               2.316973            3                27.0            2.0   \n",
       "5892               0.766103            9                17.0            2.0   \n",
       "5893               1.825275            1                28.0            2.0   \n",
       "5894               3.824145           44                 6.0            2.0   \n",
       "5896               1.440486           14                17.0            2.0   \n",
       "\n",
       "      econtrend_2020Nov  persfinretro_2020Nov  standards_children_2020Nov  \\\n",
       "0                   3.0                   2.0                         1.0   \n",
       "2                   3.0                   3.0                         2.0   \n",
       "4                   3.0                   2.0                         2.0   \n",
       "5                   3.0                   3.0                         4.0   \n",
       "6                   3.0                   3.0                         4.0   \n",
       "...                 ...                   ...                         ...   \n",
       "5891                2.0                   2.0                         1.0   \n",
       "5892                3.0                   2.0                         4.0   \n",
       "5893                3.0                   2.0                         3.0   \n",
       "5894                3.0                   2.0                         4.0   \n",
       "5896                3.0                   2.0                         3.0   \n",
       "\n",
       "      values_culture_2020Nov  turnout_2020Nov  votemeth_2020Nov  ...  \\\n",
       "0                        2.0              1.0               3.0  ...   \n",
       "2                        2.0              1.0               3.0  ...   \n",
       "4                        1.0              1.0               3.0  ...   \n",
       "5                        3.0              1.0               3.0  ...   \n",
       "6                        4.0              1.0               3.0  ...   \n",
       "...                      ...              ...               ...  ...   \n",
       "5891                     2.0              1.0               1.0  ...   \n",
       "5892                     4.0              1.0               3.0  ...   \n",
       "5893                     2.0              2.0               9.0  ...   \n",
       "5894                     3.0              2.0               9.0  ...   \n",
       "5896                     3.0              2.0               9.0  ...   \n",
       "\n",
       "      faminc_2020Sep  ideo5_2020Sep child18_2020Sep  religion_2020Sep  \\\n",
       "0                  7              3               2                 2   \n",
       "2                  3              2               2                 9   \n",
       "4                 10              1               2                12   \n",
       "5                  9              2               2                12   \n",
       "6                  5              3               2                 9   \n",
       "...              ...            ...             ...               ...   \n",
       "5891              97              3               2                10   \n",
       "5892               7              2               2                12   \n",
       "5893               8              3               2                 1   \n",
       "5894               1              1               1                11   \n",
       "5896               7              1               1                12   \n",
       "\n",
       "      religservice_2020Sep  bornagain_2020Sep  religimp_2020Sep  \\\n",
       "0                      5.0                  2                 2   \n",
       "2                      6.0                  2                 4   \n",
       "4                      2.0                  2                 2   \n",
       "5                      4.0                  2                 3   \n",
       "6                      6.0                  2                 4   \n",
       "...                    ...                ...               ...   \n",
       "5891                   6.0                  2                 4   \n",
       "5892                   5.0                  2                 2   \n",
       "5893                   6.0                  1                 1   \n",
       "5894                   6.0                  2                 3   \n",
       "5896                   1.0                  2                 1   \n",
       "\n",
       "      pew_prayer_2020Sep  starttime_2020Sep  endtime_2020Sep  \n",
       "0                      5          04 Sep 20        04 Sep 20  \n",
       "2                      7          01 Sep 20        01 Sep 20  \n",
       "4                      7          29 Aug 20        29 Aug 20  \n",
       "5                      3          29 Aug 20        29 Aug 20  \n",
       "6                      7          04 Sep 20        04 Sep 20  \n",
       "...                  ...                ...              ...  \n",
       "5891                   6          27 Sep 20        27 Sep 20  \n",
       "5892                   6          27 Sep 20        27 Sep 20  \n",
       "5893                   3          27 Sep 20        27 Sep 20  \n",
       "5894                   7          27 Sep 20        27 Sep 20  \n",
       "5896                   1          27 Sep 20        27 Sep 20  \n",
       "\n",
       "[4123 rows x 389 columns]"
      ]
     },
     "execution_count": 255,
     "metadata": {},
     "output_type": "execute_result"
    }
   ],
   "source": [
    "df1 = df1.dropna()\n",
    "df1"
   ]
  },
  {
   "cell_type": "markdown",
   "metadata": {},
   "source": [
    "All people"
   ]
  },
  {
   "cell_type": "code",
   "execution_count": 221,
   "metadata": {},
   "outputs": [
    {
     "data": {
      "text/plain": [
       "1.0    0.080766\n",
       "2.0    0.049236\n",
       "3.0    0.075916\n",
       "4.0    0.142615\n",
       "5.0    0.177541\n",
       "6.0    0.182391\n",
       "7.0    0.291535\n",
       "Name: emotion_sadness_2020Sep, dtype: float64"
      ]
     },
     "execution_count": 221,
     "metadata": {},
     "output_type": "execute_result"
    }
   ],
   "source": [
    "df1['emotion_sadness_2020Sep'].value_counts(normalize=True).sort_index()"
   ]
  },
  {
   "cell_type": "code",
   "execution_count": 222,
   "metadata": {},
   "outputs": [
    {
     "data": {
      "text/plain": [
       "0       2\n",
       "2       2\n",
       "4       2\n",
       "5       2\n",
       "6       1\n",
       "       ..\n",
       "5891    1\n",
       "5892    2\n",
       "5893    2\n",
       "5894    2\n",
       "5896    1\n",
       "Name: gender_2020Sep, Length: 4123, dtype: int64"
      ]
     },
     "execution_count": 222,
     "metadata": {},
     "output_type": "execute_result"
    }
   ],
   "source": [
    "df1['gender_2020Sep']"
   ]
  },
  {
   "cell_type": "markdown",
   "metadata": {},
   "source": [
    "# Gender"
   ]
  },
  {
   "cell_type": "markdown",
   "metadata": {},
   "source": [
    "Male"
   ]
  },
  {
   "cell_type": "code",
   "execution_count": 223,
   "metadata": {},
   "outputs": [
    {
     "data": {
      "text/plain": [
       "emotion_sadness_2020Sep\n",
       "1.0                        0.085922\n",
       "2.0                        0.060680\n",
       "3.0                        0.082039\n",
       "4.0                        0.138350\n",
       "5.0                        0.184951\n",
       "6.0                        0.188350\n",
       "7.0                        0.259709\n",
       "dtype: float64"
      ]
     },
     "execution_count": 223,
     "metadata": {},
     "output_type": "execute_result"
    }
   ],
   "source": [
    "df1[df1['gender_2020Sep'] == 1][research].value_counts(normalize= True).sort_index()"
   ]
  },
  {
   "cell_type": "markdown",
   "metadata": {},
   "source": [
    "Female"
   ]
  },
  {
   "cell_type": "code",
   "execution_count": 224,
   "metadata": {},
   "outputs": [
    {
     "data": {
      "text/plain": [
       "emotion_sadness_2020Sep\n",
       "1.0                        0.075618\n",
       "2.0                        0.037809\n",
       "3.0                        0.069801\n",
       "4.0                        0.146873\n",
       "5.0                        0.170141\n",
       "6.0                        0.176442\n",
       "7.0                        0.323316\n",
       "dtype: float64"
      ]
     },
     "execution_count": 224,
     "metadata": {},
     "output_type": "execute_result"
    }
   ],
   "source": [
    "df1[df1['gender_2020Sep'] == 2][research].value_counts(normalize= True).sort_index()"
   ]
  },
  {
   "cell_type": "markdown",
   "metadata": {},
   "source": [
    "# Race"
   ]
  },
  {
   "cell_type": "code",
   "execution_count": 225,
   "metadata": {},
   "outputs": [
    {
     "data": {
      "text/plain": [
       "array([3, 1, 6, 7, 2, 4, 5, 8])"
      ]
     },
     "execution_count": 225,
     "metadata": {},
     "output_type": "execute_result"
    }
   ],
   "source": [
    "df1['race_2020Sep'].unique()"
   ]
  },
  {
   "cell_type": "markdown",
   "metadata": {},
   "source": [
    "White"
   ]
  },
  {
   "cell_type": "code",
   "execution_count": 226,
   "metadata": {},
   "outputs": [
    {
     "data": {
      "text/plain": [
       "emotion_sadness_2020Sep\n",
       "1.0                        0.060740\n",
       "2.0                        0.043095\n",
       "3.0                        0.069902\n",
       "4.0                        0.134713\n",
       "5.0                        0.178487\n",
       "6.0                        0.203258\n",
       "7.0                        0.309807\n",
       "dtype: float64"
      ]
     },
     "execution_count": 226,
     "metadata": {},
     "output_type": "execute_result"
    }
   ],
   "source": [
    "df1[df1['race_2020Sep'] == 1][research].value_counts(normalize= True).sort_index()"
   ]
  },
  {
   "cell_type": "markdown",
   "metadata": {},
   "source": [
    "Black"
   ]
  },
  {
   "cell_type": "code",
   "execution_count": 227,
   "metadata": {},
   "outputs": [
    {
     "data": {
      "text/plain": [
       "emotion_sadness_2020Sep\n",
       "1.0                        0.169492\n",
       "2.0                        0.070218\n",
       "3.0                        0.094431\n",
       "4.0                        0.164649\n",
       "5.0                        0.152542\n",
       "6.0                        0.133172\n",
       "7.0                        0.215496\n",
       "dtype: float64"
      ]
     },
     "execution_count": 227,
     "metadata": {},
     "output_type": "execute_result"
    }
   ],
   "source": [
    "df1[df1['race_2020Sep'] == 2][research].value_counts(normalize= True).sort_index()"
   ]
  },
  {
   "cell_type": "markdown",
   "metadata": {},
   "source": [
    "Hispanic"
   ]
  },
  {
   "cell_type": "code",
   "execution_count": 228,
   "metadata": {},
   "outputs": [
    {
     "data": {
      "text/plain": [
       "emotion_sadness_2020Sep\n",
       "1.0                        0.133929\n",
       "2.0                        0.073661\n",
       "3.0                        0.089286\n",
       "4.0                        0.169643\n",
       "5.0                        0.180804\n",
       "6.0                        0.127232\n",
       "7.0                        0.225446\n",
       "dtype: float64"
      ]
     },
     "execution_count": 228,
     "metadata": {},
     "output_type": "execute_result"
    }
   ],
   "source": [
    "df1[df1['race_2020Sep'] == 3][research].value_counts(normalize= True).sort_index()"
   ]
  },
  {
   "cell_type": "code",
   "execution_count": 229,
   "metadata": {},
   "outputs": [
    {
     "data": {
      "text/plain": [
       "emotion_sadness_2020Sep\n",
       "1.0                        0.069767\n",
       "2.0                        0.038760\n",
       "3.0                        0.100775\n",
       "4.0                        0.116279\n",
       "5.0                        0.209302\n",
       "6.0                        0.162791\n",
       "7.0                        0.302326\n",
       "dtype: float64"
      ]
     },
     "execution_count": 229,
     "metadata": {},
     "output_type": "execute_result"
    }
   ],
   "source": [
    "df1[df1['race_2020Sep'] == 4][research].value_counts(normalize= True).sort_index()"
   ]
  },
  {
   "cell_type": "code",
   "execution_count": 230,
   "metadata": {},
   "outputs": [
    {
     "data": {
      "text/plain": [
       "emotion_sadness_2020Sep\n",
       "1.0                        0.115385\n",
       "2.0                        0.115385\n",
       "3.0                        0.153846\n",
       "4.0                        0.230769\n",
       "5.0                        0.153846\n",
       "6.0                        0.076923\n",
       "7.0                        0.153846\n",
       "dtype: float64"
      ]
     },
     "execution_count": 230,
     "metadata": {},
     "output_type": "execute_result"
    }
   ],
   "source": [
    "df1[df1['race_2020Sep'] == 5][research].value_counts(normalize= True).sort_index()"
   ]
  },
  {
   "cell_type": "code",
   "execution_count": 231,
   "metadata": {},
   "outputs": [
    {
     "data": {
      "text/plain": [
       "emotion_sadness_2020Sep\n",
       "1.0                        0.075758\n",
       "2.0                        0.015152\n",
       "3.0                        0.075758\n",
       "4.0                        0.196970\n",
       "5.0                        0.212121\n",
       "6.0                        0.136364\n",
       "7.0                        0.287879\n",
       "dtype: float64"
      ]
     },
     "execution_count": 231,
     "metadata": {},
     "output_type": "execute_result"
    }
   ],
   "source": [
    "df1[df1['race_2020Sep'] == 6][research].value_counts(normalize= True).sort_index()"
   ]
  },
  {
   "cell_type": "code",
   "execution_count": 232,
   "metadata": {},
   "outputs": [
    {
     "data": {
      "text/plain": [
       "emotion_sadness_2020Sep\n",
       "1.0                        0.078652\n",
       "2.0                        0.044944\n",
       "3.0                        0.056180\n",
       "4.0                        0.134831\n",
       "5.0                        0.191011\n",
       "6.0                        0.101124\n",
       "7.0                        0.393258\n",
       "dtype: float64"
      ]
     },
     "execution_count": 232,
     "metadata": {},
     "output_type": "execute_result"
    }
   ],
   "source": [
    "df1[df1['race_2020Sep'] == 7][research].value_counts(normalize= True).sort_index()"
   ]
  },
  {
   "cell_type": "markdown",
   "metadata": {},
   "source": [
    "Other Race"
   ]
  },
  {
   "cell_type": "code",
   "execution_count": 233,
   "metadata": {},
   "outputs": [
    {
     "data": {
      "text/plain": [
       "emotion_sadness_2020Sep\n",
       "1.0                        0.076190\n",
       "2.0                        0.044444\n",
       "3.0                        0.088889\n",
       "4.0                        0.149206\n",
       "5.0                        0.196825\n",
       "6.0                        0.130159\n",
       "7.0                        0.314286\n",
       "dtype: float64"
      ]
     },
     "execution_count": 233,
     "metadata": {},
     "output_type": "execute_result"
    }
   ],
   "source": [
    "df1[(df1['race_2020Sep'] == 8) | (df1['race_2020Sep'] == 7) | (df1['race_2020Sep'] == 6) | (df1['race_2020Sep'] == 5) | (df1['race_2020Sep'] == 4)][research].value_counts(normalize= True).sort_index()"
   ]
  },
  {
   "cell_type": "markdown",
   "metadata": {},
   "source": [
    "# Education"
   ]
  },
  {
   "cell_type": "markdown",
   "metadata": {},
   "source": [
    "High School or Less"
   ]
  },
  {
   "cell_type": "code",
   "execution_count": 234,
   "metadata": {},
   "outputs": [
    {
     "data": {
      "text/plain": [
       "emotion_sadness_2020Sep\n",
       "1.0                        0.115514\n",
       "2.0                        0.058179\n",
       "3.0                        0.084317\n",
       "4.0                        0.183811\n",
       "5.0                        0.165261\n",
       "6.0                        0.151771\n",
       "7.0                        0.241147\n",
       "dtype: float64"
      ]
     },
     "execution_count": 234,
     "metadata": {},
     "output_type": "execute_result"
    }
   ],
   "source": [
    "df1[(df1[\"educ_2020Sep\"] == 1) | (df1[\"educ_2020Sep\"] == 2)][research].value_counts(normalize= True).sort_index()"
   ]
  },
  {
   "cell_type": "markdown",
   "metadata": {},
   "source": [
    "Some College"
   ]
  },
  {
   "cell_type": "code",
   "execution_count": 235,
   "metadata": {},
   "outputs": [
    {
     "data": {
      "text/plain": [
       "emotion_sadness_2020Sep\n",
       "1.0                        0.084275\n",
       "2.0                        0.051387\n",
       "3.0                        0.085303\n",
       "4.0                        0.133607\n",
       "5.0                        0.176773\n",
       "6.0                        0.166495\n",
       "7.0                        0.302158\n",
       "dtype: float64"
      ]
     },
     "execution_count": 235,
     "metadata": {},
     "output_type": "execute_result"
    }
   ],
   "source": [
    "df1[df1[\"educ_2020Sep\"] == 3][research].value_counts(normalize= True).sort_index()"
   ]
  },
  {
   "cell_type": "markdown",
   "metadata": {},
   "source": [
    "College Grad"
   ]
  },
  {
   "cell_type": "code",
   "execution_count": 236,
   "metadata": {},
   "outputs": [
    {
     "data": {
      "text/plain": [
       "emotion_sadness_2020Sep\n",
       "1.0                        0.067954\n",
       "2.0                        0.042203\n",
       "3.0                        0.065808\n",
       "4.0                        0.140916\n",
       "5.0                        0.191702\n",
       "6.0                        0.200286\n",
       "7.0                        0.291130\n",
       "dtype: float64"
      ]
     },
     "execution_count": 236,
     "metadata": {},
     "output_type": "execute_result"
    }
   ],
   "source": [
    "df1[(df1[\"educ_2020Sep\"] == 4) | (df1[\"educ_2020Sep\"] == 5)][research].value_counts(normalize= True).sort_index()"
   ]
  },
  {
   "cell_type": "markdown",
   "metadata": {},
   "source": [
    "Post Grad"
   ]
  },
  {
   "cell_type": "code",
   "execution_count": 237,
   "metadata": {},
   "outputs": [
    {
     "data": {
      "text/plain": [
       "emotion_sadness_2020Sep\n",
       "1.0                        0.033569\n",
       "2.0                        0.044170\n",
       "3.0                        0.067138\n",
       "4.0                        0.075972\n",
       "5.0                        0.169611\n",
       "6.0                        0.229682\n",
       "7.0                        0.379859\n",
       "dtype: float64"
      ]
     },
     "execution_count": 237,
     "metadata": {},
     "output_type": "execute_result"
    }
   ],
   "source": [
    "df1[df1[\"educ_2020Sep\"] == 6][research].value_counts(normalize= True).sort_index()"
   ]
  },
  {
   "cell_type": "markdown",
   "metadata": {},
   "source": [
    "# Ideology"
   ]
  },
  {
   "cell_type": "markdown",
   "metadata": {},
   "source": [
    "Very Liberal"
   ]
  },
  {
   "cell_type": "code",
   "execution_count": 238,
   "metadata": {},
   "outputs": [
    {
     "data": {
      "text/plain": [
       "emotion_sadness_2020Sep\n",
       "1.0                        0.053452\n",
       "2.0                        0.026726\n",
       "3.0                        0.046771\n",
       "4.0                        0.080178\n",
       "5.0                        0.164811\n",
       "6.0                        0.184855\n",
       "7.0                        0.443207\n",
       "dtype: float64"
      ]
     },
     "execution_count": 238,
     "metadata": {},
     "output_type": "execute_result"
    }
   ],
   "source": [
    "df1[df1['ideo5_2020Sep'] == 1][research].value_counts(normalize= True).sort_index()"
   ]
  },
  {
   "cell_type": "markdown",
   "metadata": {},
   "source": [
    "Liberal"
   ]
  },
  {
   "cell_type": "code",
   "execution_count": 239,
   "metadata": {},
   "outputs": [
    {
     "data": {
      "text/plain": [
       "emotion_sadness_2020Sep\n",
       "1.0                        0.032595\n",
       "2.0                        0.031291\n",
       "3.0                        0.048240\n",
       "4.0                        0.125163\n",
       "5.0                        0.183833\n",
       "6.0                        0.209909\n",
       "7.0                        0.368970\n",
       "dtype: float64"
      ]
     },
     "execution_count": 239,
     "metadata": {},
     "output_type": "execute_result"
    }
   ],
   "source": [
    "df1[df1['ideo5_2020Sep'] == 2][research].value_counts(normalize= True).sort_index()"
   ]
  },
  {
   "cell_type": "markdown",
   "metadata": {},
   "source": [
    "Moderate"
   ]
  },
  {
   "cell_type": "code",
   "execution_count": 240,
   "metadata": {},
   "outputs": [
    {
     "data": {
      "text/plain": [
       "emotion_sadness_2020Sep\n",
       "1.0                        0.076923\n",
       "2.0                        0.047233\n",
       "3.0                        0.064103\n",
       "4.0                        0.145749\n",
       "5.0                        0.171390\n",
       "6.0                        0.198381\n",
       "7.0                        0.296221\n",
       "dtype: float64"
      ]
     },
     "execution_count": 240,
     "metadata": {},
     "output_type": "execute_result"
    }
   ],
   "source": [
    "df1[df1['ideo5_2020Sep'] == 3][research].value_counts(normalize= True).sort_index()"
   ]
  },
  {
   "cell_type": "markdown",
   "metadata": {},
   "source": [
    "Conservative"
   ]
  },
  {
   "cell_type": "code",
   "execution_count": 241,
   "metadata": {},
   "outputs": [
    {
     "data": {
      "text/plain": [
       "emotion_sadness_2020Sep\n",
       "1.0                        0.100703\n",
       "2.0                        0.071429\n",
       "3.0                        0.125293\n",
       "4.0                        0.156909\n",
       "5.0                        0.204918\n",
       "6.0                        0.155738\n",
       "7.0                        0.185012\n",
       "dtype: float64"
      ]
     },
     "execution_count": 241,
     "metadata": {},
     "output_type": "execute_result"
    }
   ],
   "source": [
    "df1[df1['ideo5_2020Sep'] == 4][research].value_counts(normalize= True).sort_index()"
   ]
  },
  {
   "cell_type": "markdown",
   "metadata": {},
   "source": [
    "Very Conservative"
   ]
  },
  {
   "cell_type": "code",
   "execution_count": 242,
   "metadata": {},
   "outputs": [
    {
     "data": {
      "text/plain": [
       "emotion_sadness_2020Sep\n",
       "1.0                        0.112717\n",
       "2.0                        0.078035\n",
       "3.0                        0.080925\n",
       "4.0                        0.156069\n",
       "5.0                        0.158960\n",
       "6.0                        0.173410\n",
       "7.0                        0.239884\n",
       "dtype: float64"
      ]
     },
     "execution_count": 242,
     "metadata": {},
     "output_type": "execute_result"
    }
   ],
   "source": [
    "df1[df1['ideo5_2020Sep'] == 5][research].value_counts(normalize= True).sort_index()"
   ]
  },
  {
   "cell_type": "markdown",
   "metadata": {},
   "source": [
    "Don't Know"
   ]
  },
  {
   "cell_type": "code",
   "execution_count": 243,
   "metadata": {},
   "outputs": [
    {
     "data": {
      "text/plain": [
       "emotion_sadness_2020Sep\n",
       "1.0                        0.200000\n",
       "2.0                        0.040000\n",
       "3.0                        0.111111\n",
       "4.0                        0.231111\n",
       "5.0                        0.146667\n",
       "6.0                        0.093333\n",
       "7.0                        0.177778\n",
       "dtype: float64"
      ]
     },
     "execution_count": 243,
     "metadata": {},
     "output_type": "execute_result"
    }
   ],
   "source": [
    "df1[df1['ideo5_2020Sep'] == 6][research].value_counts(normalize= True).sort_index()"
   ]
  },
  {
   "cell_type": "markdown",
   "metadata": {},
   "source": [
    "# 5 Point Party ID"
   ]
  },
  {
   "cell_type": "markdown",
   "metadata": {},
   "source": [
    "Democrat"
   ]
  },
  {
   "cell_type": "code",
   "execution_count": 244,
   "metadata": {},
   "outputs": [
    {
     "data": {
      "text/plain": [
       "emotion_sadness_2020Sep\n",
       "1.0                        0.056580\n",
       "2.0                        0.038779\n",
       "3.0                        0.057216\n",
       "4.0                        0.126510\n",
       "5.0                        0.176732\n",
       "6.0                        0.200254\n",
       "7.0                        0.343929\n",
       "dtype: float64"
      ]
     },
     "execution_count": 244,
     "metadata": {},
     "output_type": "execute_result"
    }
   ],
   "source": [
    "df1[(df1['pid7_2020Sep'] == 1) | (df1['pid7_2020Sep'] == 2)][research].value_counts(normalize= True).sort_index()"
   ]
  },
  {
   "cell_type": "markdown",
   "metadata": {},
   "source": [
    "Lean Democrat"
   ]
  },
  {
   "cell_type": "code",
   "execution_count": 245,
   "metadata": {},
   "outputs": [
    {
     "data": {
      "text/plain": [
       "emotion_sadness_2020Sep\n",
       "1.0                        0.029345\n",
       "2.0                        0.027088\n",
       "3.0                        0.051919\n",
       "4.0                        0.108352\n",
       "5.0                        0.167043\n",
       "6.0                        0.218962\n",
       "7.0                        0.397291\n",
       "dtype: float64"
      ]
     },
     "execution_count": 245,
     "metadata": {},
     "output_type": "execute_result"
    }
   ],
   "source": [
    "df1[df1['pid7_2020Sep'] == 3][research].value_counts(normalize= True).sort_index()"
   ]
  },
  {
   "cell_type": "markdown",
   "metadata": {},
   "source": [
    "Independent"
   ]
  },
  {
   "cell_type": "code",
   "execution_count": 246,
   "metadata": {},
   "outputs": [
    {
     "data": {
      "text/plain": [
       "emotion_sadness_2020Sep\n",
       "1.0                        0.109810\n",
       "2.0                        0.048316\n",
       "3.0                        0.086384\n",
       "4.0                        0.161054\n",
       "5.0                        0.168375\n",
       "6.0                        0.152269\n",
       "7.0                        0.273792\n",
       "dtype: float64"
      ]
     },
     "execution_count": 246,
     "metadata": {},
     "output_type": "execute_result"
    }
   ],
   "source": [
    "df1[df1['pid7_2020Sep'] == 4][research].value_counts(normalize= True).sort_index()"
   ]
  },
  {
   "cell_type": "markdown",
   "metadata": {},
   "source": [
    "Lean Republican"
   ]
  },
  {
   "cell_type": "code",
   "execution_count": 247,
   "metadata": {},
   "outputs": [
    {
     "data": {
      "text/plain": [
       "emotion_sadness_2020Sep\n",
       "1.0                        0.099707\n",
       "2.0                        0.058651\n",
       "3.0                        0.111437\n",
       "4.0                        0.117302\n",
       "5.0                        0.214076\n",
       "6.0                        0.190616\n",
       "7.0                        0.208211\n",
       "dtype: float64"
      ]
     },
     "execution_count": 247,
     "metadata": {},
     "output_type": "execute_result"
    }
   ],
   "source": [
    "df1[df1['pid7_2020Sep'] == 5][research].value_counts(normalize= True).sort_index()"
   ]
  },
  {
   "cell_type": "markdown",
   "metadata": {},
   "source": [
    "Republican"
   ]
  },
  {
   "cell_type": "code",
   "execution_count": 248,
   "metadata": {},
   "outputs": [
    {
     "data": {
      "text/plain": [
       "emotion_sadness_2020Sep\n",
       "1.0                        0.102020\n",
       "2.0                        0.073737\n",
       "3.0                        0.089899\n",
       "4.0                        0.166667\n",
       "5.0                        0.181818\n",
       "6.0                        0.169697\n",
       "7.0                        0.216162\n",
       "dtype: float64"
      ]
     },
     "execution_count": 248,
     "metadata": {},
     "output_type": "execute_result"
    }
   ],
   "source": [
    "df1[(df1['pid7_2020Sep'] == 6) | (df1['pid7_2020Sep'] == 7)][research].value_counts(normalize= True).sort_index()"
   ]
  },
  {
   "cell_type": "markdown",
   "metadata": {},
   "source": [
    "Not Sure"
   ]
  },
  {
   "cell_type": "code",
   "execution_count": 249,
   "metadata": {},
   "outputs": [
    {
     "data": {
      "text/plain": [
       "emotion_sadness_2020Sep\n",
       "1.0                        0.225806\n",
       "2.0                        0.043011\n",
       "3.0                        0.150538\n",
       "4.0                        0.279570\n",
       "5.0                        0.129032\n",
       "6.0                        0.032258\n",
       "7.0                        0.139785\n",
       "dtype: float64"
      ]
     },
     "execution_count": 249,
     "metadata": {},
     "output_type": "execute_result"
    }
   ],
   "source": [
    "df1[df1['pid7_2020Sep'] == 8][research].value_counts(normalize= True).sort_index()"
   ]
  },
  {
   "cell_type": "markdown",
   "metadata": {},
   "source": [
    "# Histograms"
   ]
  },
  {
   "cell_type": "markdown",
   "metadata": {},
   "source": [
    "All People"
   ]
  },
  {
   "cell_type": "code",
   "execution_count": 250,
   "metadata": {},
   "outputs": [],
   "source": [
    "import matplotlib.pyplot as plt \n",
    "import seaborn as sns \n",
    "import numpy as np"
   ]
  },
  {
   "cell_type": "code",
   "execution_count": 251,
   "metadata": {},
   "outputs": [
    {
     "data": {
      "image/png": "[encoded data removed]",
      "text/plain": [
       "<Figure size 640x480 with 1 Axes>"
      ]
     },
     "metadata": {},
     "output_type": "display_data"
    }
   ],
   "source": [
    "df1['emotion_sadness_2020Sep'].hist(density=True) \n",
    "plt.xlabel('Scale of 1-7 of the feeling of Sadness in regards to Politics') \n",
    "plt.ylabel('Percentage of Responses') \n",
    "plt.show() "
   ]
  },
  {
   "cell_type": "markdown",
   "metadata": {},
   "source": [
    "Ideology"
   ]
  },
  {
   "cell_type": "code",
   "execution_count": 252,
   "metadata": {},
   "outputs": [
    {
     "data": {
      "image/png": "[encoded data removed]",
      "text/plain": [
       "<Figure size 640x480 with 1 Axes>"
      ]
     },
     "metadata": {},
     "output_type": "display_data"
    }
   ],
   "source": [
    "plt.hist(df1[df1['ideo5_2020Sep'] == 1][research], alpha=0.5, label='Democrat')\n",
    "plt.hist(df1[df1['ideo5_2020Sep'] == 5][research], alpha=0.5, label='Consservative')\n",
    "plt.legend(loc='upper left')\n",
    "plt.title('Scale of 1-7 of Sadness based on the Ideology of the responder')\n",
    "plt.show()"
   ]
  },
  {
   "cell_type": "markdown",
   "metadata": {},
   "source": [
    "Gender"
   ]
  },
  {
   "cell_type": "code",
   "execution_count": 253,
   "metadata": {},
   "outputs": [
    {
     "data": {
      "image/png": "[encoded data removed]",
      "text/plain": [
       "<Figure size 640x480 with 1 Axes>"
      ]
     },
     "metadata": {},
     "output_type": "display_data"
    }
   ],
   "source": [
    "plt.hist(df1[df1['gender_2020Sep'] == 1][research], alpha=0.5, label='Male')\n",
    "plt.hist(df1[df1['gender_2020Sep'] == 2][research], alpha=0.5, label='Female')\n",
    "plt.legend(loc='upper left')\n",
    "plt.title(\"Scale fo 1-7 of how people feel about politcs in regards to sadness based on gender\")\n",
    "plt.show()"
   ]
  },
  {
   "cell_type": "markdown",
   "metadata": {},
   "source": [
    "# Correlation"
   ]
  },
  {
   "cell_type": "code",
   "execution_count": 256,
   "metadata": {},
   "outputs": [
    {
     "ename": "ValueError",
     "evalue": "all the input array dimensions for the concatenation axis must match exactly, but along dimension 1, the array at index 0 has size 4123 and the array at index 1 has size 1",
     "output_type": "error",
     "traceback": [
      "\u001b[0;31m---------------------------------------------------------------------------\u001b[0m",
      "\u001b[0;31mValueError\u001b[0m                                Traceback (most recent call last)",
      "Cell \u001b[0;32mIn[256], line 1\u001b[0m\n\u001b[0;32m----> 1\u001b[0m \u001b[43mdf1\u001b[49m\u001b[43m[\u001b[49m\u001b[38;5;124;43m'\u001b[39;49m\u001b[38;5;124;43mprimaryturnout_2020Sep\u001b[39;49m\u001b[38;5;124;43m'\u001b[39;49m\u001b[43m]\u001b[49m\u001b[38;5;241;43m.\u001b[39;49m\u001b[43mcorr\u001b[49m\u001b[43m(\u001b[49m\u001b[43mdf1\u001b[49m\u001b[43m[\u001b[49m\u001b[43mresearch\u001b[49m\u001b[43m]\u001b[49m\u001b[43m)\u001b[49m\n",
      "File \u001b[0;32m~/miniconda3/lib/python3.10/site-packages/pandas/core/series.py:2760\u001b[0m, in \u001b[0;36mSeries.corr\u001b[0;34m(self, other, method, min_periods)\u001b[0m\n\u001b[1;32m   2757\u001b[0m     \u001b[39mreturn\u001b[39;00m np\u001b[39m.\u001b[39mnan\n\u001b[1;32m   2759\u001b[0m \u001b[39mif\u001b[39;00m method \u001b[39min\u001b[39;00m [\u001b[39m\"\u001b[39m\u001b[39mpearson\u001b[39m\u001b[39m\"\u001b[39m, \u001b[39m\"\u001b[39m\u001b[39mspearman\u001b[39m\u001b[39m\"\u001b[39m, \u001b[39m\"\u001b[39m\u001b[39mkendall\u001b[39m\u001b[39m\"\u001b[39m] \u001b[39mor\u001b[39;00m callable(method):\n\u001b[0;32m-> 2760\u001b[0m     \u001b[39mreturn\u001b[39;00m nanops\u001b[39m.\u001b[39;49mnancorr(\n\u001b[1;32m   2761\u001b[0m         this\u001b[39m.\u001b[39;49mvalues, other\u001b[39m.\u001b[39;49mvalues, method\u001b[39m=\u001b[39;49mmethod, min_periods\u001b[39m=\u001b[39;49mmin_periods\n\u001b[1;32m   2762\u001b[0m     )\n\u001b[1;32m   2764\u001b[0m \u001b[39mraise\u001b[39;00m \u001b[39mValueError\u001b[39;00m(\n\u001b[1;32m   2765\u001b[0m     \u001b[39m\"\u001b[39m\u001b[39mmethod must be either \u001b[39m\u001b[39m'\u001b[39m\u001b[39mpearson\u001b[39m\u001b[39m'\u001b[39m\u001b[39m, \u001b[39m\u001b[39m\"\u001b[39m\n\u001b[1;32m   2766\u001b[0m     \u001b[39m\"\u001b[39m\u001b[39m'\u001b[39m\u001b[39mspearman\u001b[39m\u001b[39m'\u001b[39m\u001b[39m, \u001b[39m\u001b[39m'\u001b[39m\u001b[39mkendall\u001b[39m\u001b[39m'\u001b[39m\u001b[39m, or a callable, \u001b[39m\u001b[39m\"\u001b[39m\n\u001b[1;32m   2767\u001b[0m     \u001b[39mf\u001b[39m\u001b[39m\"\u001b[39m\u001b[39m'\u001b[39m\u001b[39m{\u001b[39;00mmethod\u001b[39m}\u001b[39;00m\u001b[39m'\u001b[39m\u001b[39m was supplied\u001b[39m\u001b[39m\"\u001b[39m\n\u001b[1;32m   2768\u001b[0m )\n",
      "File \u001b[0;32m~/miniconda3/lib/python3.10/site-packages/pandas/core/nanops.py:93\u001b[0m, in \u001b[0;36mdisallow.__call__.<locals>._f\u001b[0;34m(*args, **kwargs)\u001b[0m\n\u001b[1;32m     91\u001b[0m \u001b[39mtry\u001b[39;00m:\n\u001b[1;32m     92\u001b[0m     \u001b[39mwith\u001b[39;00m np\u001b[39m.\u001b[39merrstate(invalid\u001b[39m=\u001b[39m\u001b[39m\"\u001b[39m\u001b[39mignore\u001b[39m\u001b[39m\"\u001b[39m):\n\u001b[0;32m---> 93\u001b[0m         \u001b[39mreturn\u001b[39;00m f(\u001b[39m*\u001b[39;49margs, \u001b[39m*\u001b[39;49m\u001b[39m*\u001b[39;49mkwargs)\n\u001b[1;32m     94\u001b[0m \u001b[39mexcept\u001b[39;00m \u001b[39mValueError\u001b[39;00m \u001b[39mas\u001b[39;00m e:\n\u001b[1;32m     95\u001b[0m     \u001b[39m# we want to transform an object array\u001b[39;00m\n\u001b[1;32m     96\u001b[0m     \u001b[39m# ValueError message to the more typical TypeError\u001b[39;00m\n\u001b[1;32m     97\u001b[0m     \u001b[39m# e.g. this is normally a disallowed function on\u001b[39;00m\n\u001b[1;32m     98\u001b[0m     \u001b[39m# object arrays that contain strings\u001b[39;00m\n\u001b[1;32m     99\u001b[0m     \u001b[39mif\u001b[39;00m is_object_dtype(args[\u001b[39m0\u001b[39m]):\n",
      "File \u001b[0;32m~/miniconda3/lib/python3.10/site-packages/pandas/core/nanops.py:1554\u001b[0m, in \u001b[0;36mnancorr\u001b[0;34m(a, b, method, min_periods)\u001b[0m\n\u001b[1;32m   1551\u001b[0m     \u001b[39mreturn\u001b[39;00m np\u001b[39m.\u001b[39mnan\n\u001b[1;32m   1553\u001b[0m f \u001b[39m=\u001b[39m get_corr_func(method)\n\u001b[0;32m-> 1554\u001b[0m \u001b[39mreturn\u001b[39;00m f(a, b)\n",
      "File \u001b[0;32m~/miniconda3/lib/python3.10/site-packages/pandas/core/nanops.py:1575\u001b[0m, in \u001b[0;36mget_corr_func.<locals>.func\u001b[0;34m(a, b)\u001b[0m\n\u001b[1;32m   1574\u001b[0m \u001b[39mdef\u001b[39;00m \u001b[39mfunc\u001b[39m(a, b):\n\u001b[0;32m-> 1575\u001b[0m     \u001b[39mreturn\u001b[39;00m np\u001b[39m.\u001b[39;49mcorrcoef(a, b)[\u001b[39m0\u001b[39m, \u001b[39m1\u001b[39m]\n",
      "File \u001b[0;32m<__array_function__ internals>:180\u001b[0m, in \u001b[0;36mcorrcoef\u001b[0;34m(*args, **kwargs)\u001b[0m\n",
      "File \u001b[0;32m~/miniconda3/lib/python3.10/site-packages/numpy/lib/function_base.py:2845\u001b[0m, in \u001b[0;36mcorrcoef\u001b[0;34m(x, y, rowvar, bias, ddof, dtype)\u001b[0m\n\u001b[1;32m   2841\u001b[0m \u001b[39mif\u001b[39;00m bias \u001b[39mis\u001b[39;00m \u001b[39mnot\u001b[39;00m np\u001b[39m.\u001b[39m_NoValue \u001b[39mor\u001b[39;00m ddof \u001b[39mis\u001b[39;00m \u001b[39mnot\u001b[39;00m np\u001b[39m.\u001b[39m_NoValue:\n\u001b[1;32m   2842\u001b[0m     \u001b[39m# 2015-03-15, 1.10\u001b[39;00m\n\u001b[1;32m   2843\u001b[0m     warnings\u001b[39m.\u001b[39mwarn(\u001b[39m'\u001b[39m\u001b[39mbias and ddof have no effect and are deprecated\u001b[39m\u001b[39m'\u001b[39m,\n\u001b[1;32m   2844\u001b[0m                   \u001b[39mDeprecationWarning\u001b[39;00m, stacklevel\u001b[39m=\u001b[39m\u001b[39m3\u001b[39m)\n\u001b[0;32m-> 2845\u001b[0m c \u001b[39m=\u001b[39m cov(x, y, rowvar, dtype\u001b[39m=\u001b[39;49mdtype)\n\u001b[1;32m   2846\u001b[0m \u001b[39mtry\u001b[39;00m:\n\u001b[1;32m   2847\u001b[0m     d \u001b[39m=\u001b[39m diag(c)\n",
      "File \u001b[0;32m<__array_function__ internals>:180\u001b[0m, in \u001b[0;36mcov\u001b[0;34m(*args, **kwargs)\u001b[0m\n",
      "File \u001b[0;32m~/miniconda3/lib/python3.10/site-packages/numpy/lib/function_base.py:2639\u001b[0m, in \u001b[0;36mcov\u001b[0;34m(m, y, rowvar, bias, ddof, fweights, aweights, dtype)\u001b[0m\n\u001b[1;32m   2637\u001b[0m     \u001b[39mif\u001b[39;00m \u001b[39mnot\u001b[39;00m rowvar \u001b[39mand\u001b[39;00m y\u001b[39m.\u001b[39mshape[\u001b[39m0\u001b[39m] \u001b[39m!=\u001b[39m \u001b[39m1\u001b[39m:\n\u001b[1;32m   2638\u001b[0m         y \u001b[39m=\u001b[39m y\u001b[39m.\u001b[39mT\n\u001b[0;32m-> 2639\u001b[0m     X \u001b[39m=\u001b[39m np\u001b[39m.\u001b[39;49mconcatenate((X, y), axis\u001b[39m=\u001b[39;49m\u001b[39m0\u001b[39;49m)\n\u001b[1;32m   2641\u001b[0m \u001b[39mif\u001b[39;00m ddof \u001b[39mis\u001b[39;00m \u001b[39mNone\u001b[39;00m:\n\u001b[1;32m   2642\u001b[0m     \u001b[39mif\u001b[39;00m bias \u001b[39m==\u001b[39m \u001b[39m0\u001b[39m:\n",
      "File \u001b[0;32m<__array_function__ internals>:180\u001b[0m, in \u001b[0;36mconcatenate\u001b[0;34m(*args, **kwargs)\u001b[0m\n",
      "\u001b[0;31mValueError\u001b[0m: all the input array dimensions for the concatenation axis must match exactly, but along dimension 1, the array at index 0 has size 4123 and the array at index 1 has size 1"
     ]
    }
   ],
   "source": [
    "df1['primaryturnout_2020Sep'].corr(df1[research])"
   ]
  },
  {
   "cell_type": "code",
   "execution_count": null,
   "metadata": {},
   "outputs": [],
   "source": []
  }
 ],
 "metadata": {
  "kernelspec": {
   "display_name": "Python 3.10.8 ('base')",
   "language": "python",
   "name": "python3"
  },
  "language_info": {
   "codemirror_mode": {
    "name": "ipython",
    "version": 3
   },
   "file_extension": ".py",
   "mimetype": "text/x-python",
   "name": "python",
   "nbconvert_exporter": "python",
   "pygments_lexer": "ipython3",
   "version": "3.10.8"
  },
  "orig_nbformat": 4,
  "vscode": {
   "interpreter": {
    "hash": "18d2aa3fae0f36bb1720221dcbb2c06c763022491ae2f5a1384e2486a04c113e"
   }
  }
 },
 "nbformat": 4,
 "nbformat_minor": 2
}
