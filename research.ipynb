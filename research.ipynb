{
 "cells": [
  {
   "cell_type": "code",
   "execution_count": 59,
   "metadata": {},
   "outputs": [],
   "source": [
    "import pandas as pd"
   ]
  },
  {
   "cell_type": "code",
   "execution_count": 60,
   "metadata": {},
   "outputs": [
    {
     "data": {
      "text/html": [
       "<div>\n",
       "<style scoped>\n",
       "    .dataframe tbody tr th:only-of-type {\n",
       "        vertical-align: middle;\n",
       "    }\n",
       "\n",
       "    .dataframe tbody tr th {\n",
       "        vertical-align: top;\n",
       "    }\n",
       "\n",
       "    .dataframe thead th {\n",
       "        text-align: right;\n",
       "    }\n",
       "</style>\n",
       "<table border=\"1\" class=\"dataframe\">\n",
       "  <thead>\n",
       "    <tr style=\"text-align: right;\">\n",
       "      <th></th>\n",
       "      <th>weight_genpop_2020Nov</th>\n",
       "      <th>cdid_2020Nov</th>\n",
       "      <th>inputstate_2020Nov</th>\n",
       "      <th>track_2020Nov</th>\n",
       "      <th>econtrend_2020Nov</th>\n",
       "      <th>persfinretro_2020Nov</th>\n",
       "      <th>standards_children_2020Nov</th>\n",
       "      <th>values_culture_2020Nov</th>\n",
       "      <th>turnout_2020Nov</th>\n",
       "      <th>votemeth_2020Nov</th>\n",
       "      <th>...</th>\n",
       "      <th>faminc_2020Sep</th>\n",
       "      <th>ideo5_2020Sep</th>\n",
       "      <th>child18_2020Sep</th>\n",
       "      <th>religion_2020Sep</th>\n",
       "      <th>religservice_2020Sep</th>\n",
       "      <th>bornagain_2020Sep</th>\n",
       "      <th>religimp_2020Sep</th>\n",
       "      <th>pew_prayer_2020Sep</th>\n",
       "      <th>starttime_2020Sep</th>\n",
       "      <th>endtime_2020Sep</th>\n",
       "    </tr>\n",
       "  </thead>\n",
       "  <tbody>\n",
       "    <tr>\n",
       "      <th>0</th>\n",
       "      <td>0.617408</td>\n",
       "      <td>2</td>\n",
       "      <td>6.0</td>\n",
       "      <td>2.0</td>\n",
       "      <td>3.0</td>\n",
       "      <td>2.0</td>\n",
       "      <td>1.0</td>\n",
       "      <td>2.0</td>\n",
       "      <td>1.0</td>\n",
       "      <td>3.0</td>\n",
       "      <td>...</td>\n",
       "      <td>7</td>\n",
       "      <td>3</td>\n",
       "      <td>2</td>\n",
       "      <td>2</td>\n",
       "      <td>5</td>\n",
       "      <td>2</td>\n",
       "      <td>2</td>\n",
       "      <td>5</td>\n",
       "      <td>04 Sep 20</td>\n",
       "      <td>04 Sep 20</td>\n",
       "    </tr>\n",
       "    <tr>\n",
       "      <th>1</th>\n",
       "      <td>NaN</td>\n",
       "      <td></td>\n",
       "      <td>NaN</td>\n",
       "      <td>NaN</td>\n",
       "      <td>NaN</td>\n",
       "      <td>NaN</td>\n",
       "      <td>NaN</td>\n",
       "      <td>NaN</td>\n",
       "      <td>NaN</td>\n",
       "      <td>NaN</td>\n",
       "      <td>...</td>\n",
       "      <td>6</td>\n",
       "      <td>3</td>\n",
       "      <td>2</td>\n",
       "      <td>10</td>\n",
       "      <td>6</td>\n",
       "      <td>2</td>\n",
       "      <td>4</td>\n",
       "      <td>6</td>\n",
       "      <td>29 Aug 20</td>\n",
       "      <td>29 Aug 20</td>\n",
       "    </tr>\n",
       "    <tr>\n",
       "      <th>2</th>\n",
       "      <td>0.513165</td>\n",
       "      <td>1</td>\n",
       "      <td>50.0</td>\n",
       "      <td>2.0</td>\n",
       "      <td>3.0</td>\n",
       "      <td>3.0</td>\n",
       "      <td>2.0</td>\n",
       "      <td>2.0</td>\n",
       "      <td>1.0</td>\n",
       "      <td>3.0</td>\n",
       "      <td>...</td>\n",
       "      <td>3</td>\n",
       "      <td>2</td>\n",
       "      <td>2</td>\n",
       "      <td>9</td>\n",
       "      <td>6</td>\n",
       "      <td>2</td>\n",
       "      <td>4</td>\n",
       "      <td>7</td>\n",
       "      <td>01 Sep 20</td>\n",
       "      <td>01 Sep 20</td>\n",
       "    </tr>\n",
       "    <tr>\n",
       "      <th>3</th>\n",
       "      <td>NaN</td>\n",
       "      <td></td>\n",
       "      <td>NaN</td>\n",
       "      <td>NaN</td>\n",
       "      <td>NaN</td>\n",
       "      <td>NaN</td>\n",
       "      <td>NaN</td>\n",
       "      <td>NaN</td>\n",
       "      <td>NaN</td>\n",
       "      <td>NaN</td>\n",
       "      <td>...</td>\n",
       "      <td>11</td>\n",
       "      <td>2</td>\n",
       "      <td>2</td>\n",
       "      <td>11</td>\n",
       "      <td>5</td>\n",
       "      <td>2</td>\n",
       "      <td>2</td>\n",
       "      <td>1</td>\n",
       "      <td>08 Sep 20</td>\n",
       "      <td>08 Sep 20</td>\n",
       "    </tr>\n",
       "    <tr>\n",
       "      <th>4</th>\n",
       "      <td>0.567885</td>\n",
       "      <td>2</td>\n",
       "      <td>4.0</td>\n",
       "      <td>2.0</td>\n",
       "      <td>3.0</td>\n",
       "      <td>2.0</td>\n",
       "      <td>2.0</td>\n",
       "      <td>1.0</td>\n",
       "      <td>1.0</td>\n",
       "      <td>3.0</td>\n",
       "      <td>...</td>\n",
       "      <td>10</td>\n",
       "      <td>1</td>\n",
       "      <td>2</td>\n",
       "      <td>12</td>\n",
       "      <td>2</td>\n",
       "      <td>2</td>\n",
       "      <td>2</td>\n",
       "      <td>7</td>\n",
       "      <td>29 Aug 20</td>\n",
       "      <td>29 Aug 20</td>\n",
       "    </tr>\n",
       "    <tr>\n",
       "      <th>...</th>\n",
       "      <td>...</td>\n",
       "      <td>...</td>\n",
       "      <td>...</td>\n",
       "      <td>...</td>\n",
       "      <td>...</td>\n",
       "      <td>...</td>\n",
       "      <td>...</td>\n",
       "      <td>...</td>\n",
       "      <td>...</td>\n",
       "      <td>...</td>\n",
       "      <td>...</td>\n",
       "      <td>...</td>\n",
       "      <td>...</td>\n",
       "      <td>...</td>\n",
       "      <td>...</td>\n",
       "      <td>...</td>\n",
       "      <td>...</td>\n",
       "      <td>...</td>\n",
       "      <td>...</td>\n",
       "      <td>...</td>\n",
       "      <td>...</td>\n",
       "    </tr>\n",
       "    <tr>\n",
       "      <th>5895</th>\n",
       "      <td>0.799748</td>\n",
       "      <td>1</td>\n",
       "      <td>16.0</td>\n",
       "      <td>2.0</td>\n",
       "      <td>1.0</td>\n",
       "      <td>2.0</td>\n",
       "      <td>1.0</td>\n",
       "      <td>1.0</td>\n",
       "      <td>1.0</td>\n",
       "      <td>3.0</td>\n",
       "      <td>...</td>\n",
       "      <td>97</td>\n",
       "      <td>2</td>\n",
       "      <td>2</td>\n",
       "      <td>9</td>\n",
       "      <td>6</td>\n",
       "      <td>2</td>\n",
       "      <td>4</td>\n",
       "      <td>7</td>\n",
       "      <td>27 Sep 20</td>\n",
       "      <td>27 Sep 20</td>\n",
       "    </tr>\n",
       "    <tr>\n",
       "      <th>5896</th>\n",
       "      <td>1.440486</td>\n",
       "      <td>14</td>\n",
       "      <td>17.0</td>\n",
       "      <td>2.0</td>\n",
       "      <td>3.0</td>\n",
       "      <td>2.0</td>\n",
       "      <td>3.0</td>\n",
       "      <td>3.0</td>\n",
       "      <td>2.0</td>\n",
       "      <td>9.0</td>\n",
       "      <td>...</td>\n",
       "      <td>7</td>\n",
       "      <td>1</td>\n",
       "      <td>1</td>\n",
       "      <td>12</td>\n",
       "      <td>1</td>\n",
       "      <td>2</td>\n",
       "      <td>1</td>\n",
       "      <td>1</td>\n",
       "      <td>27 Sep 20</td>\n",
       "      <td>27 Sep 20</td>\n",
       "    </tr>\n",
       "    <tr>\n",
       "      <th>5897</th>\n",
       "      <td>0.799748</td>\n",
       "      <td>6</td>\n",
       "      <td>29.0</td>\n",
       "      <td>3.0</td>\n",
       "      <td>4.0</td>\n",
       "      <td>3.0</td>\n",
       "      <td>4.0</td>\n",
       "      <td>3.0</td>\n",
       "      <td>1.0</td>\n",
       "      <td>2.0</td>\n",
       "      <td>...</td>\n",
       "      <td>3</td>\n",
       "      <td>2</td>\n",
       "      <td>2</td>\n",
       "      <td>11</td>\n",
       "      <td>6</td>\n",
       "      <td>2</td>\n",
       "      <td>2</td>\n",
       "      <td>6</td>\n",
       "      <td>27 Sep 20</td>\n",
       "      <td>27 Sep 20</td>\n",
       "    </tr>\n",
       "    <tr>\n",
       "      <th>5898</th>\n",
       "      <td>NaN</td>\n",
       "      <td></td>\n",
       "      <td>NaN</td>\n",
       "      <td>NaN</td>\n",
       "      <td>NaN</td>\n",
       "      <td>NaN</td>\n",
       "      <td>NaN</td>\n",
       "      <td>NaN</td>\n",
       "      <td>NaN</td>\n",
       "      <td>NaN</td>\n",
       "      <td>...</td>\n",
       "      <td>14</td>\n",
       "      <td>3</td>\n",
       "      <td>2</td>\n",
       "      <td>1</td>\n",
       "      <td>5</td>\n",
       "      <td>2</td>\n",
       "      <td>2</td>\n",
       "      <td>6</td>\n",
       "      <td>27 Sep 20</td>\n",
       "      <td>27 Sep 20</td>\n",
       "    </tr>\n",
       "    <tr>\n",
       "      <th>5899</th>\n",
       "      <td>NaN</td>\n",
       "      <td></td>\n",
       "      <td>NaN</td>\n",
       "      <td>NaN</td>\n",
       "      <td>NaN</td>\n",
       "      <td>NaN</td>\n",
       "      <td>NaN</td>\n",
       "      <td>NaN</td>\n",
       "      <td>NaN</td>\n",
       "      <td>NaN</td>\n",
       "      <td>...</td>\n",
       "      <td>10</td>\n",
       "      <td>3</td>\n",
       "      <td>2</td>\n",
       "      <td>1</td>\n",
       "      <td>2</td>\n",
       "      <td>1</td>\n",
       "      <td>1</td>\n",
       "      <td>1</td>\n",
       "      <td>27 Sep 20</td>\n",
       "      <td>27 Sep 20</td>\n",
       "    </tr>\n",
       "  </tbody>\n",
       "</table>\n",
       "<p>5900 rows × 389 columns</p>\n",
       "</div>"
      ],
      "text/plain": [
       "      weight_genpop_2020Nov cdid_2020Nov  inputstate_2020Nov  track_2020Nov  \\\n",
       "0                  0.617408            2                 6.0            2.0   \n",
       "1                       NaN                              NaN            NaN   \n",
       "2                  0.513165            1                50.0            2.0   \n",
       "3                       NaN                              NaN            NaN   \n",
       "4                  0.567885            2                 4.0            2.0   \n",
       "...                     ...          ...                 ...            ...   \n",
       "5895               0.799748            1                16.0            2.0   \n",
       "5896               1.440486           14                17.0            2.0   \n",
       "5897               0.799748            6                29.0            3.0   \n",
       "5898                    NaN                              NaN            NaN   \n",
       "5899                    NaN                              NaN            NaN   \n",
       "\n",
       "      econtrend_2020Nov  persfinretro_2020Nov  standards_children_2020Nov  \\\n",
       "0                   3.0                   2.0                         1.0   \n",
       "1                   NaN                   NaN                         NaN   \n",
       "2                   3.0                   3.0                         2.0   \n",
       "3                   NaN                   NaN                         NaN   \n",
       "4                   3.0                   2.0                         2.0   \n",
       "...                 ...                   ...                         ...   \n",
       "5895                1.0                   2.0                         1.0   \n",
       "5896                3.0                   2.0                         3.0   \n",
       "5897                4.0                   3.0                         4.0   \n",
       "5898                NaN                   NaN                         NaN   \n",
       "5899                NaN                   NaN                         NaN   \n",
       "\n",
       "      values_culture_2020Nov  turnout_2020Nov  votemeth_2020Nov  ...  \\\n",
       "0                        2.0              1.0               3.0  ...   \n",
       "1                        NaN              NaN               NaN  ...   \n",
       "2                        2.0              1.0               3.0  ...   \n",
       "3                        NaN              NaN               NaN  ...   \n",
       "4                        1.0              1.0               3.0  ...   \n",
       "...                      ...              ...               ...  ...   \n",
       "5895                     1.0              1.0               3.0  ...   \n",
       "5896                     3.0              2.0               9.0  ...   \n",
       "5897                     3.0              1.0               2.0  ...   \n",
       "5898                     NaN              NaN               NaN  ...   \n",
       "5899                     NaN              NaN               NaN  ...   \n",
       "\n",
       "      faminc_2020Sep  ideo5_2020Sep child18_2020Sep  religion_2020Sep  \\\n",
       "0                  7              3               2                 2   \n",
       "1                  6              3               2                10   \n",
       "2                  3              2               2                 9   \n",
       "3                 11              2               2                11   \n",
       "4                 10              1               2                12   \n",
       "...              ...            ...             ...               ...   \n",
       "5895              97              2               2                 9   \n",
       "5896               7              1               1                12   \n",
       "5897               3              2               2                11   \n",
       "5898              14              3               2                 1   \n",
       "5899              10              3               2                 1   \n",
       "\n",
       "      religservice_2020Sep  bornagain_2020Sep  religimp_2020Sep  \\\n",
       "0                        5                  2                 2   \n",
       "1                        6                  2                 4   \n",
       "2                        6                  2                 4   \n",
       "3                        5                  2                 2   \n",
       "4                        2                  2                 2   \n",
       "...                    ...                ...               ...   \n",
       "5895                     6                  2                 4   \n",
       "5896                     1                  2                 1   \n",
       "5897                     6                  2                 2   \n",
       "5898                     5                  2                 2   \n",
       "5899                     2                  1                 1   \n",
       "\n",
       "      pew_prayer_2020Sep  starttime_2020Sep  endtime_2020Sep  \n",
       "0                      5          04 Sep 20        04 Sep 20  \n",
       "1                      6          29 Aug 20        29 Aug 20  \n",
       "2                      7          01 Sep 20        01 Sep 20  \n",
       "3                      1          08 Sep 20        08 Sep 20  \n",
       "4                      7          29 Aug 20        29 Aug 20  \n",
       "...                  ...                ...              ...  \n",
       "5895                   7          27 Sep 20        27 Sep 20  \n",
       "5896                   1          27 Sep 20        27 Sep 20  \n",
       "5897                   6          27 Sep 20        27 Sep 20  \n",
       "5898                   6          27 Sep 20        27 Sep 20  \n",
       "5899                   1          27 Sep 20        27 Sep 20  \n",
       "\n",
       "[5900 rows x 389 columns]"
      ]
     },
     "execution_count": 60,
     "metadata": {},
     "output_type": "execute_result"
    }
   ],
   "source": [
    "df = pd.read_csv(\"voter_2020.csv\", encoding='cp1252')\n",
    "df"
   ]
  },
  {
   "cell_type": "code",
   "execution_count": 61,
   "metadata": {},
   "outputs": [
    {
     "data": {
      "text/plain": [
       "array(['weight_genpop_2020Nov', 'cdid_2020Nov', 'inputstate_2020Nov',\n",
       "       'track_2020Nov', 'econtrend_2020Nov', 'persfinretro_2020Nov',\n",
       "       'standards_children_2020Nov', 'values_culture_2020Nov',\n",
       "       'turnout_2020Nov', 'votemeth_2020Nov', 'waittime_2020Nov',\n",
       "       'presvote_2020Nov', 'presvote_t_2020Nov', 'presvote_force_2020Nov',\n",
       "       'foragainst_trump_2020Nov', 'foragainst_biden_2020Nov',\n",
       "       'trump_sanders_2020Nov', 'trump_clinton_2020Nov',\n",
       "       'trump_harris_2020Nov', 'biden_pence_2020Nov', 'housevote_2020Nov',\n",
       "       'senatevote_2020Nov', 'senatevote2_2020Nov',\n",
       "       'governorvote_2020Nov', 'whowon_2020Nov',\n",
       "       'result_challenge_2020Nov', 'result_neverconcede_2020Nov',\n",
       "       'result_reassignevs_2020Nov', 'acceptresult_own_2020Nov',\n",
       "       'acceptresult_trump_2020Nov', 'accuratecount_own_2020Nov',\n",
       "       'intendedcount_comm_2020Nov', 'intendedcount_country_2020Nov',\n",
       "       'votingexp_id_2020Nov', 'votingexp_place_2020Nov',\n",
       "       'votingexp_registration_2020Nov', 'votingexp_harass_2020Nov',\n",
       "       'votingexp_name_2020Nov', 'votingexp_ballotmissing_2020Nov',\n",
       "       'votingexp_ballotlate_2020Nov', 'votingexp_solong_2020Nov',\n",
       "       'vbm_fraud_2020Nov', 'inperson_fraud_2020Nov',\n",
       "       'vbm_effect_2020Nov', 'permanentharm_2020Nov', 'trumpapp_2020Nov',\n",
       "       'trumpapp_race_2020Nov', 'trumpapp_econ_2020Nov',\n",
       "       'trumpapp_covid_2020Nov', 'govapp_covid_2020Nov',\n",
       "       'covid_sickyou_2020Nov', 'covid_sickfamily_2020Nov',\n",
       "       'covid_sickwork_2020Nov', 'covid_sickfriend_2020Nov',\n",
       "       'covid_concern_2020Nov', 'covid_endrestrictions_2020Nov',\n",
       "       'fav_trump_2020Nov', 'fav_pence_2020Nov', 'fav_biden_2020Nov',\n",
       "       'fav_harris_2020Nov', 'ft_dem_2020Nov', 'ft_rep_2020Nov',\n",
       "       'ideo5_trump_2020Nov', 'ideo5_biden_2020Nov',\n",
       "       'ideo5_sanders_2020Nov', 'ideo5_clinton_2020Nov',\n",
       "       'ideo5_harris_2020Nov', 'ideo5_pence_2020Nov', 'ideo5_gop_2020Nov',\n",
       "       'ideo5_dems_2020Nov', 'trustgovt_2020Nov', 'inst_court_2020Nov',\n",
       "       'inst_media_2020Nov', 'inst_congress_2020Nov', 'inst_usps_2020Nov',\n",
       "       'inst_cdc_2020Nov', 'inst_justice_2020Nov', 'inst_FBI_2020Nov',\n",
       "       'inst_military_2020Nov', 'inst_church_2020Nov',\n",
       "       'inst_business_2020Nov', 'expert_trustordinary_2020Nov',\n",
       "       'expert_facts_2020Nov', 'expert_help_2020Nov',\n",
       "       'expert_struggle_2020Nov', 'electionsmatter_2020Nov',\n",
       "       'fairsociety_2020Nov', 'economicbias_2020Nov',\n",
       "       'beliefinmedia_2020Nov', 'nosay_2020Nov',\n",
       "       'eliteunderstand_2020Nov', 'people_trust_2020Nov',\n",
       "       'people_helpful_2020Nov', 'neighbor_trust_2020Nov',\n",
       "       'polcorrect_2020Nov', 'polclimate_2020Nov',\n",
       "       'usgovtstructure_2020Nov', 'court_fixterm_2020Nov',\n",
       "       'court_expand_2020Nov', 'filibuster_60_2020Nov',\n",
       "       'filibuster_51_2020Nov', 'pres_popvoteorec_2020Nov',\n",
       "       'issue_crime_2020Nov', 'issue_econ_2020Nov', 'issue_immig_2020Nov',\n",
       "       'issue_envi_2020Nov', 'issue_religlib_2020Nov',\n",
       "       'issue_terror_2020Nov', 'issue_gayrights_2020Nov',\n",
       "       'issue_educ_2020Nov', 'issue_fml_2020Nov',\n",
       "       'issue_healthcare_2020Nov', 'issue_moneypol_2020Nov',\n",
       "       'issue_climatechange_2020Nov', 'issue_socsec_2020Nov',\n",
       "       'issue_infra_2020Nov', 'issue_jobs_2020Nov',\n",
       "       'issue_budget_2020Nov', 'issue_poverty_2020Nov',\n",
       "       'issue_taxes_2020Nov', 'issue_medicare_2020Nov',\n",
       "       'issue_abort_2020Nov', 'issue_govsize_2020Nov',\n",
       "       'issue_raceeq_2020Nov', 'issue_gendereq_2020Nov',\n",
       "       'issue_covid_2020Nov', 'issue_policereform_2020Nov',\n",
       "       'taxdoug_2020Nov', 'tradepolicy_2020Nov',\n",
       "       'immi_contribution_2020Nov', 'immi_naturalize_2020Nov',\n",
       "       'immi_muslim_2020Nov', 'immi_makedifficult_2020Nov',\n",
       "       'univhealthcov_2020Nov', 'view_abortlegal_2020Nov',\n",
       "       'roevwade_2020Nov', 'view_gaymar_2020Nov',\n",
       "       'view_transgender_2020Nov', 'usa_becitizen_2020Nov',\n",
       "       'usa_ashamed_2020Nov', 'usa_belikeus_2020Nov',\n",
       "       'usa_proud_dem_2020Nov', 'usa_proud_history_2020Nov',\n",
       "       'usa_proud_fair_2020Nov', 'us_respect_2020Nov',\n",
       "       'rm1_enriched_2020Nov', 'rm2_workforce_2020Nov',\n",
       "       'rm3_demands_2020Nov', 'rm4_enoughjobs_2020Nov',\n",
       "       'gendereq_opp_2020Nov', 'sexism_roles_2020Nov',\n",
       "       'sexism_equality_2020Nov', 'sexism_jobs_2020Nov',\n",
       "       'sexism_complain_2020Nov', 'sexism_workplace_2020Nov',\n",
       "       'sexism_moreopps_2020Nov', 'threatenleaders_dem_2020Nov',\n",
       "       'threatenleaders_rep_2020Nov', 'threatenleaders_ind_2020Nov',\n",
       "       'internetharass_dem_2020Nov', 'internetharass_rep_2020Nov',\n",
       "       'internetharass_ind_2020Nov', 'politicalviolence_dem_2020Nov',\n",
       "       'politicalviolence_rep_2020Nov', 'politicalviolence_ind_2020Nov',\n",
       "       'presvote20_violence_2020Nov', 'volunteer_2020Nov',\n",
       "       'volunteer_infreq_2020Nov', 'pid3_2020Nov', 'pid7_2020Nov',\n",
       "       'ideo5_2020Nov', 'HouseCand1Name_2020Nov',\n",
       "       'HouseCand2Name_2020Nov', 'HouseCand3Name_2020Nov',\n",
       "       'HouseCand4Name_2020Nov', 'HouseCand5Name_2020Nov',\n",
       "       'HouseCand6Name_2020Nov', 'HouseCand7Name_2020Nov',\n",
       "       'HouseCand8Name_2020Nov', 'HouseCand9Name_2020Nov',\n",
       "       'HouseCand1Party_2020Nov', 'HouseCand2Party_2020Nov',\n",
       "       'HouseCand3Party_2020Nov', 'HouseCand4Party_2020Nov',\n",
       "       'HouseCand5Party_2020Nov', 'HouseCand6Party_2020Nov',\n",
       "       'HouseCand7Party_2020Nov', 'HouseCand8Party_2020Nov',\n",
       "       'HouseCand9Party_2020Nov', 'SenCand1Name_2020Nov',\n",
       "       'SenCand2Name_2020Nov', 'SenCand1Party_2020Nov',\n",
       "       'SenCand2Party_2020Nov', 'SenCand1Name2_2020Nov',\n",
       "       'SenCand2Name2_2020Nov', 'SenCand3Name2_2020Nov',\n",
       "       'SenCand4Name2_2020Nov', 'SenCand5Name2_2020Nov',\n",
       "       'SenCand6Name2_2020Nov', 'SenCand1Party2_2020Nov',\n",
       "       'SenCand2Party2_2020Nov', 'SenCand3Party2_2020Nov',\n",
       "       'SenCand4Party2_2020Nov', 'SenCand5Party2_2020Nov',\n",
       "       'SenCand6Party2_2020Nov', 'GovCand1Name_2020Nov',\n",
       "       'GovCand2Name_2020Nov', 'GovCand1Party_2020Nov',\n",
       "       'GovCand2Party_2020Nov', 'starttime_2020Nov', 'endtime_2020Nov',\n",
       "       'vf_matched_2020Nov', 'vf_status_2020Nov', 'vf_partyreg_2020Nov',\n",
       "       'vf_g2020_2020Nov', 'vf_p2020_2020Nov', 'vf_pp2020_2020Nov',\n",
       "       'vf_p2020_party_2020Nov', 'vf_pp2020_party_2020Nov',\n",
       "       'weight_genpop_2020Sep', 'track_2020Sep', 'econtrend_2020Sep',\n",
       "       'persfinretro_2020Sep', 'votereg_2020Sep', 'inputstate_2020Sep',\n",
       "       'trumpapp_2020Sep', 'fav_trump_2020Sep', 'fav_pence_2020Sep',\n",
       "       'fav_biden_2020Sep', 'fav_sanders_2020Sep', 'fav_harris_2020Sep',\n",
       "       'fav_obama_2020Sep', 'fav_hrc_2020Sep', 'ft_dem_2020Sep',\n",
       "       'ft_rep_2020Sep', 'ft_black_2020Sep', 'ft_white_2020Sep',\n",
       "       'ft_asian_2020Sep', 'ft_latino_2020Sep', 'ft_jew_2020Sep',\n",
       "       'ft_muslim_2020Sep', 'ft_gay_2020Sep', 'ft_immig_2020Sep',\n",
       "       'ft_wec_2020Sep', 'ft_whitem_2020Sep', 'ft_blm_2020Sep',\n",
       "       'ft_altright_2020Sep', 'ft_police_2020Sep',\n",
       "       'emotion_anger_2020Sep', 'emotion_anxiety_2020Sep',\n",
       "       'emotion_disgust_2020Sep', 'emotion_sadness_2020Sep',\n",
       "       'emotion_hope_2020Sep', 'emotion_enthusiasm_2020Sep',\n",
       "       'presvote16_2020Sep', 'votemeth16_2020Sep',\n",
       "       'primaryturnout_2020Sep', 'demprimary20post_2020Sep',\n",
       "       'demprimary20post_t_2020Sep', 'repprimary20post_2020Sep',\n",
       "       'repprimary20post_t_2020Sep', 'voteintent_2020Sep',\n",
       "       'votemeth_2020Sep', 'presvote_2020Sep', 'presvote_force_2020Sep',\n",
       "       'presvote20pre_forag_a_2020Sep', 'presvote20pre_forag_b_2020Sep',\n",
       "       'housevote_2020Sep', 'housevote_force_2020Sep',\n",
       "       'senatevote_2020Sep', 'senatevote_force_2020Sep',\n",
       "       'governorvote_2020Sep', 'governorvote_force_2020Sep',\n",
       "       'intendedcount_comm_2020Sep', 'intendedcount_country_2020Sep',\n",
       "       'acceptresult_loser_2020Sep', 'trumpapp_covid_2020Sep',\n",
       "       'govapp_covid_2020Sep', 'covid_sickyou_2020Sep',\n",
       "       'covid_sickfamily_2020Sep', 'covid_sickwork_2020Sep',\n",
       "       'covid_sickfriend_2020Sep', 'covid_concern_2020Sep',\n",
       "       'covid_endrestrictions_2020Sep', 'covid_impact_black_2020Sep',\n",
       "       'covid_impact_white_2020Sep', 'covid_impact_hispanic_2020Sep',\n",
       "       'covid_impact_asian_2020Sep', 'covid_impact_older_2020Sep',\n",
       "       'covid_impact_younger_2020Sep', 'covid_impact_wealthy_2020Sep',\n",
       "       'covid_impact_working_2020Sep', 'covid_restrict_gathering_2020Sep',\n",
       "       'covid_restrict_business_2020Sep', 'covid_restrict_school_2020Sep',\n",
       "       'covid_restrict_wfh_2020Sep', 'covid_restrict_travel_2020Sep',\n",
       "       'covid_restrict_stayhome_2020Sep', 'covid_restrict_test_2020Sep',\n",
       "       'covid_voteinperson_2020Sep', 'votemeth_vbm_ever_2020Sep',\n",
       "       'vbm_fraud_2020Sep', 'inperson_fraud_2020Sep',\n",
       "       'vbm_effect_2020Sep', 'trumpapp_race_2020Sep',\n",
       "       'discrim_white_2020Sep', 'discrim_black_2020Sep',\n",
       "       'discrim_hispanic_2020Sep', 'discrim_asian_2020Sep',\n",
       "       'discrim_personal_2020Sep', 'affirmativeaction_2020Sep',\n",
       "       'reparations_2020Sep', 'defundpolice_2020Sep',\n",
       "       'decreasepolice_2020Sep', 'eliminateprotection_2020Sep',\n",
       "       'banchokehold_2020Sep', 'civilianoversight_2020Sep',\n",
       "       'protest_support_2020Sep', 'protest_conduct_2020Sep',\n",
       "       'protest_policeresponse_2020Sep', 'disc_policyfavor_2020Sep',\n",
       "       'race_deservemore_2020Sep', 'race_overcome_2020Sep',\n",
       "       'race_tryharder_2020Sep', 'race_slave_2020Sep',\n",
       "       'discrim_reverse_2020Sep', 'disc_increasedopp_2020Sep',\n",
       "       'disc_whiteenjoy_2020Sep', 'disc_whiteadvantage_2020Sep',\n",
       "       'disc_whiteguilt_2020Sep', 'disc_minorityfair_2020Sep',\n",
       "       'disc_womenfair_2020Sep', 'police_threat_2020Sep',\n",
       "       'usa_founders_2020Sep', 'finance_worry_2020Sep',\n",
       "       'finance_savings_2020Sep', 'finance_unexpected_2020Sep',\n",
       "       'finance_event_lost_job_2020Sep',\n",
       "       'finance_event_spouse_job_2020Sep', 'finance_event_rent_2020Sep',\n",
       "       'finance_event_loan_2020Sep', 'finance_event_car_2020Sep',\n",
       "       'finance_event_credit_2020Sep', 'finance_event_income_2020Sep',\n",
       "       'govt_econinvolve_2020Sep', 'election_trumploss_2020Sep',\n",
       "       'election_demloss_2020Sep', 'election_ecloss_2020Sep',\n",
       "       'pid3_2020Sep', 'pid7_2020Sep', 'threatenleaders_dem_2020Sep',\n",
       "       'threatenleaders_rep_2020Sep', 'threatenleaders_ind_2020Sep',\n",
       "       'internetharass_dem_2020Sep', 'internetharass_rep_2020Sep',\n",
       "       'internetharass_ind_2020Sep', 'politicalviolence_dem_2020Sep',\n",
       "       'politicalviolence_rep_2020Sep', 'politicalviolence_ind_2020Sep',\n",
       "       'violencepostelection_dem_2020Sep',\n",
       "       'violencepostelection_rep_2020Sep',\n",
       "       'violencepostelection_ind_2020Sep', 'sexuality_2020Sep',\n",
       "       'genderchange_2020Sep', 'race_fate_2020Sep',\n",
       "       'race_importance_2020Sep', 'lookingforjob_2020Sep',\n",
       "       'household_child_num_2020Sep', 'household_adults_2020Sep',\n",
       "       'household_status_2020Sep', 'newsint_2020Sep',\n",
       "       'laborunionmember_2020Sep', 'gunowner_2020Sep', 'birthyr_2020Sep',\n",
       "       'gender_2020Sep', 'race_2020Sep', 'educ_2020Sep',\n",
       "       'marstat_2020Sep', 'employment_2020Sep', 'faminc_2020Sep',\n",
       "       'ideo5_2020Sep', 'child18_2020Sep', 'religion_2020Sep',\n",
       "       'religservice_2020Sep', 'bornagain_2020Sep', 'religimp_2020Sep',\n",
       "       'pew_prayer_2020Sep', 'starttime_2020Sep', 'endtime_2020Sep'],\n",
       "      dtype=object)"
      ]
     },
     "execution_count": 61,
     "metadata": {},
     "output_type": "execute_result"
    }
   ],
   "source": [
    "df.columns.values"
   ]
  },
  {
   "cell_type": "code",
   "execution_count": 62,
   "metadata": {},
   "outputs": [],
   "source": [
    "research = ['emotion_sadness_2020Sep']"
   ]
  },
  {
   "cell_type": "code",
   "execution_count": 63,
   "metadata": {},
   "outputs": [
    {
     "data": {
      "text/plain": [
       "emotion_sadness_2020Sep\n",
       "7                          0.294746\n",
       "6                          0.174576\n",
       "5                          0.169322\n",
       "4                          0.141695\n",
       "1                          0.088136\n",
       "3                          0.077119\n",
       "2                          0.053559\n",
       "98                         0.000847\n",
       "dtype: float64"
      ]
     },
     "execution_count": 63,
     "metadata": {},
     "output_type": "execute_result"
    }
   ],
   "source": [
    "df[research].value_counts(normalize = True)"
   ]
  },
  {
   "cell_type": "code",
   "execution_count": 64,
   "metadata": {},
   "outputs": [
    {
     "data": {
      "text/plain": [
       "array([ 5,  3,  7,  6,  4,  2,  1, 98])"
      ]
     },
     "execution_count": 64,
     "metadata": {},
     "output_type": "execute_result"
    }
   ],
   "source": [
    "df['emotion_sadness_2020Sep'].unique()"
   ]
  },
  {
   "cell_type": "code",
   "execution_count": 65,
   "metadata": {},
   "outputs": [
    {
     "data": {
      "text/html": [
       "<div>\n",
       "<style scoped>\n",
       "    .dataframe tbody tr th:only-of-type {\n",
       "        vertical-align: middle;\n",
       "    }\n",
       "\n",
       "    .dataframe tbody tr th {\n",
       "        vertical-align: top;\n",
       "    }\n",
       "\n",
       "    .dataframe thead th {\n",
       "        text-align: right;\n",
       "    }\n",
       "</style>\n",
       "<table border=\"1\" class=\"dataframe\">\n",
       "  <thead>\n",
       "    <tr style=\"text-align: right;\">\n",
       "      <th></th>\n",
       "      <th>weight_genpop_2020Nov</th>\n",
       "      <th>cdid_2020Nov</th>\n",
       "      <th>inputstate_2020Nov</th>\n",
       "      <th>track_2020Nov</th>\n",
       "      <th>econtrend_2020Nov</th>\n",
       "      <th>persfinretro_2020Nov</th>\n",
       "      <th>standards_children_2020Nov</th>\n",
       "      <th>values_culture_2020Nov</th>\n",
       "      <th>turnout_2020Nov</th>\n",
       "      <th>votemeth_2020Nov</th>\n",
       "      <th>...</th>\n",
       "      <th>faminc_2020Sep</th>\n",
       "      <th>ideo5_2020Sep</th>\n",
       "      <th>child18_2020Sep</th>\n",
       "      <th>religion_2020Sep</th>\n",
       "      <th>religservice_2020Sep</th>\n",
       "      <th>bornagain_2020Sep</th>\n",
       "      <th>religimp_2020Sep</th>\n",
       "      <th>pew_prayer_2020Sep</th>\n",
       "      <th>starttime_2020Sep</th>\n",
       "      <th>endtime_2020Sep</th>\n",
       "    </tr>\n",
       "  </thead>\n",
       "  <tbody>\n",
       "    <tr>\n",
       "      <th>0</th>\n",
       "      <td>0.617408</td>\n",
       "      <td>2</td>\n",
       "      <td>6.0</td>\n",
       "      <td>2.0</td>\n",
       "      <td>3.0</td>\n",
       "      <td>2.0</td>\n",
       "      <td>1.0</td>\n",
       "      <td>2.0</td>\n",
       "      <td>1.0</td>\n",
       "      <td>3.0</td>\n",
       "      <td>...</td>\n",
       "      <td>7</td>\n",
       "      <td>3</td>\n",
       "      <td>2</td>\n",
       "      <td>2</td>\n",
       "      <td>5.0</td>\n",
       "      <td>2</td>\n",
       "      <td>2</td>\n",
       "      <td>5</td>\n",
       "      <td>04 Sep 20</td>\n",
       "      <td>04 Sep 20</td>\n",
       "    </tr>\n",
       "    <tr>\n",
       "      <th>1</th>\n",
       "      <td>NaN</td>\n",
       "      <td></td>\n",
       "      <td>NaN</td>\n",
       "      <td>NaN</td>\n",
       "      <td>NaN</td>\n",
       "      <td>NaN</td>\n",
       "      <td>NaN</td>\n",
       "      <td>NaN</td>\n",
       "      <td>NaN</td>\n",
       "      <td>NaN</td>\n",
       "      <td>...</td>\n",
       "      <td>6</td>\n",
       "      <td>3</td>\n",
       "      <td>2</td>\n",
       "      <td>10</td>\n",
       "      <td>6.0</td>\n",
       "      <td>2</td>\n",
       "      <td>4</td>\n",
       "      <td>6</td>\n",
       "      <td>29 Aug 20</td>\n",
       "      <td>29 Aug 20</td>\n",
       "    </tr>\n",
       "    <tr>\n",
       "      <th>2</th>\n",
       "      <td>0.513165</td>\n",
       "      <td>1</td>\n",
       "      <td>50.0</td>\n",
       "      <td>2.0</td>\n",
       "      <td>3.0</td>\n",
       "      <td>3.0</td>\n",
       "      <td>2.0</td>\n",
       "      <td>2.0</td>\n",
       "      <td>1.0</td>\n",
       "      <td>3.0</td>\n",
       "      <td>...</td>\n",
       "      <td>3</td>\n",
       "      <td>2</td>\n",
       "      <td>2</td>\n",
       "      <td>9</td>\n",
       "      <td>6.0</td>\n",
       "      <td>2</td>\n",
       "      <td>4</td>\n",
       "      <td>7</td>\n",
       "      <td>01 Sep 20</td>\n",
       "      <td>01 Sep 20</td>\n",
       "    </tr>\n",
       "    <tr>\n",
       "      <th>3</th>\n",
       "      <td>NaN</td>\n",
       "      <td></td>\n",
       "      <td>NaN</td>\n",
       "      <td>NaN</td>\n",
       "      <td>NaN</td>\n",
       "      <td>NaN</td>\n",
       "      <td>NaN</td>\n",
       "      <td>NaN</td>\n",
       "      <td>NaN</td>\n",
       "      <td>NaN</td>\n",
       "      <td>...</td>\n",
       "      <td>11</td>\n",
       "      <td>2</td>\n",
       "      <td>2</td>\n",
       "      <td>11</td>\n",
       "      <td>5.0</td>\n",
       "      <td>2</td>\n",
       "      <td>2</td>\n",
       "      <td>1</td>\n",
       "      <td>08 Sep 20</td>\n",
       "      <td>08 Sep 20</td>\n",
       "    </tr>\n",
       "    <tr>\n",
       "      <th>4</th>\n",
       "      <td>0.567885</td>\n",
       "      <td>2</td>\n",
       "      <td>4.0</td>\n",
       "      <td>2.0</td>\n",
       "      <td>3.0</td>\n",
       "      <td>2.0</td>\n",
       "      <td>2.0</td>\n",
       "      <td>1.0</td>\n",
       "      <td>1.0</td>\n",
       "      <td>3.0</td>\n",
       "      <td>...</td>\n",
       "      <td>10</td>\n",
       "      <td>1</td>\n",
       "      <td>2</td>\n",
       "      <td>12</td>\n",
       "      <td>2.0</td>\n",
       "      <td>2</td>\n",
       "      <td>2</td>\n",
       "      <td>7</td>\n",
       "      <td>29 Aug 20</td>\n",
       "      <td>29 Aug 20</td>\n",
       "    </tr>\n",
       "    <tr>\n",
       "      <th>...</th>\n",
       "      <td>...</td>\n",
       "      <td>...</td>\n",
       "      <td>...</td>\n",
       "      <td>...</td>\n",
       "      <td>...</td>\n",
       "      <td>...</td>\n",
       "      <td>...</td>\n",
       "      <td>...</td>\n",
       "      <td>...</td>\n",
       "      <td>...</td>\n",
       "      <td>...</td>\n",
       "      <td>...</td>\n",
       "      <td>...</td>\n",
       "      <td>...</td>\n",
       "      <td>...</td>\n",
       "      <td>...</td>\n",
       "      <td>...</td>\n",
       "      <td>...</td>\n",
       "      <td>...</td>\n",
       "      <td>...</td>\n",
       "      <td>...</td>\n",
       "    </tr>\n",
       "    <tr>\n",
       "      <th>5895</th>\n",
       "      <td>0.799748</td>\n",
       "      <td>1</td>\n",
       "      <td>16.0</td>\n",
       "      <td>2.0</td>\n",
       "      <td>1.0</td>\n",
       "      <td>2.0</td>\n",
       "      <td>1.0</td>\n",
       "      <td>1.0</td>\n",
       "      <td>1.0</td>\n",
       "      <td>3.0</td>\n",
       "      <td>...</td>\n",
       "      <td>97</td>\n",
       "      <td>2</td>\n",
       "      <td>2</td>\n",
       "      <td>9</td>\n",
       "      <td>6.0</td>\n",
       "      <td>2</td>\n",
       "      <td>4</td>\n",
       "      <td>7</td>\n",
       "      <td>27 Sep 20</td>\n",
       "      <td>27 Sep 20</td>\n",
       "    </tr>\n",
       "    <tr>\n",
       "      <th>5896</th>\n",
       "      <td>1.440486</td>\n",
       "      <td>14</td>\n",
       "      <td>17.0</td>\n",
       "      <td>2.0</td>\n",
       "      <td>3.0</td>\n",
       "      <td>2.0</td>\n",
       "      <td>3.0</td>\n",
       "      <td>3.0</td>\n",
       "      <td>2.0</td>\n",
       "      <td>9.0</td>\n",
       "      <td>...</td>\n",
       "      <td>7</td>\n",
       "      <td>1</td>\n",
       "      <td>1</td>\n",
       "      <td>12</td>\n",
       "      <td>1.0</td>\n",
       "      <td>2</td>\n",
       "      <td>1</td>\n",
       "      <td>1</td>\n",
       "      <td>27 Sep 20</td>\n",
       "      <td>27 Sep 20</td>\n",
       "    </tr>\n",
       "    <tr>\n",
       "      <th>5897</th>\n",
       "      <td>0.799748</td>\n",
       "      <td>6</td>\n",
       "      <td>29.0</td>\n",
       "      <td>3.0</td>\n",
       "      <td>4.0</td>\n",
       "      <td>3.0</td>\n",
       "      <td>4.0</td>\n",
       "      <td>3.0</td>\n",
       "      <td>1.0</td>\n",
       "      <td>2.0</td>\n",
       "      <td>...</td>\n",
       "      <td>3</td>\n",
       "      <td>2</td>\n",
       "      <td>2</td>\n",
       "      <td>11</td>\n",
       "      <td>6.0</td>\n",
       "      <td>2</td>\n",
       "      <td>2</td>\n",
       "      <td>6</td>\n",
       "      <td>27 Sep 20</td>\n",
       "      <td>27 Sep 20</td>\n",
       "    </tr>\n",
       "    <tr>\n",
       "      <th>5898</th>\n",
       "      <td>NaN</td>\n",
       "      <td></td>\n",
       "      <td>NaN</td>\n",
       "      <td>NaN</td>\n",
       "      <td>NaN</td>\n",
       "      <td>NaN</td>\n",
       "      <td>NaN</td>\n",
       "      <td>NaN</td>\n",
       "      <td>NaN</td>\n",
       "      <td>NaN</td>\n",
       "      <td>...</td>\n",
       "      <td>14</td>\n",
       "      <td>3</td>\n",
       "      <td>2</td>\n",
       "      <td>1</td>\n",
       "      <td>5.0</td>\n",
       "      <td>2</td>\n",
       "      <td>2</td>\n",
       "      <td>6</td>\n",
       "      <td>27 Sep 20</td>\n",
       "      <td>27 Sep 20</td>\n",
       "    </tr>\n",
       "    <tr>\n",
       "      <th>5899</th>\n",
       "      <td>NaN</td>\n",
       "      <td></td>\n",
       "      <td>NaN</td>\n",
       "      <td>NaN</td>\n",
       "      <td>NaN</td>\n",
       "      <td>NaN</td>\n",
       "      <td>NaN</td>\n",
       "      <td>NaN</td>\n",
       "      <td>NaN</td>\n",
       "      <td>NaN</td>\n",
       "      <td>...</td>\n",
       "      <td>10</td>\n",
       "      <td>3</td>\n",
       "      <td>2</td>\n",
       "      <td>1</td>\n",
       "      <td>2.0</td>\n",
       "      <td>1</td>\n",
       "      <td>1</td>\n",
       "      <td>1</td>\n",
       "      <td>27 Sep 20</td>\n",
       "      <td>27 Sep 20</td>\n",
       "    </tr>\n",
       "  </tbody>\n",
       "</table>\n",
       "<p>5900 rows × 389 columns</p>\n",
       "</div>"
      ],
      "text/plain": [
       "      weight_genpop_2020Nov cdid_2020Nov  inputstate_2020Nov  track_2020Nov  \\\n",
       "0                  0.617408            2                 6.0            2.0   \n",
       "1                       NaN                              NaN            NaN   \n",
       "2                  0.513165            1                50.0            2.0   \n",
       "3                       NaN                              NaN            NaN   \n",
       "4                  0.567885            2                 4.0            2.0   \n",
       "...                     ...          ...                 ...            ...   \n",
       "5895               0.799748            1                16.0            2.0   \n",
       "5896               1.440486           14                17.0            2.0   \n",
       "5897               0.799748            6                29.0            3.0   \n",
       "5898                    NaN                              NaN            NaN   \n",
       "5899                    NaN                              NaN            NaN   \n",
       "\n",
       "      econtrend_2020Nov  persfinretro_2020Nov  standards_children_2020Nov  \\\n",
       "0                   3.0                   2.0                         1.0   \n",
       "1                   NaN                   NaN                         NaN   \n",
       "2                   3.0                   3.0                         2.0   \n",
       "3                   NaN                   NaN                         NaN   \n",
       "4                   3.0                   2.0                         2.0   \n",
       "...                 ...                   ...                         ...   \n",
       "5895                1.0                   2.0                         1.0   \n",
       "5896                3.0                   2.0                         3.0   \n",
       "5897                4.0                   3.0                         4.0   \n",
       "5898                NaN                   NaN                         NaN   \n",
       "5899                NaN                   NaN                         NaN   \n",
       "\n",
       "      values_culture_2020Nov  turnout_2020Nov  votemeth_2020Nov  ...  \\\n",
       "0                        2.0              1.0               3.0  ...   \n",
       "1                        NaN              NaN               NaN  ...   \n",
       "2                        2.0              1.0               3.0  ...   \n",
       "3                        NaN              NaN               NaN  ...   \n",
       "4                        1.0              1.0               3.0  ...   \n",
       "...                      ...              ...               ...  ...   \n",
       "5895                     1.0              1.0               3.0  ...   \n",
       "5896                     3.0              2.0               9.0  ...   \n",
       "5897                     3.0              1.0               2.0  ...   \n",
       "5898                     NaN              NaN               NaN  ...   \n",
       "5899                     NaN              NaN               NaN  ...   \n",
       "\n",
       "      faminc_2020Sep  ideo5_2020Sep child18_2020Sep  religion_2020Sep  \\\n",
       "0                  7              3               2                 2   \n",
       "1                  6              3               2                10   \n",
       "2                  3              2               2                 9   \n",
       "3                 11              2               2                11   \n",
       "4                 10              1               2                12   \n",
       "...              ...            ...             ...               ...   \n",
       "5895              97              2               2                 9   \n",
       "5896               7              1               1                12   \n",
       "5897               3              2               2                11   \n",
       "5898              14              3               2                 1   \n",
       "5899              10              3               2                 1   \n",
       "\n",
       "      religservice_2020Sep  bornagain_2020Sep  religimp_2020Sep  \\\n",
       "0                      5.0                  2                 2   \n",
       "1                      6.0                  2                 4   \n",
       "2                      6.0                  2                 4   \n",
       "3                      5.0                  2                 2   \n",
       "4                      2.0                  2                 2   \n",
       "...                    ...                ...               ...   \n",
       "5895                   6.0                  2                 4   \n",
       "5896                   1.0                  2                 1   \n",
       "5897                   6.0                  2                 2   \n",
       "5898                   5.0                  2                 2   \n",
       "5899                   2.0                  1                 1   \n",
       "\n",
       "      pew_prayer_2020Sep  starttime_2020Sep  endtime_2020Sep  \n",
       "0                      5          04 Sep 20        04 Sep 20  \n",
       "1                      6          29 Aug 20        29 Aug 20  \n",
       "2                      7          01 Sep 20        01 Sep 20  \n",
       "3                      1          08 Sep 20        08 Sep 20  \n",
       "4                      7          29 Aug 20        29 Aug 20  \n",
       "...                  ...                ...              ...  \n",
       "5895                   7          27 Sep 20        27 Sep 20  \n",
       "5896                   1          27 Sep 20        27 Sep 20  \n",
       "5897                   6          27 Sep 20        27 Sep 20  \n",
       "5898                   6          27 Sep 20        27 Sep 20  \n",
       "5899                   1          27 Sep 20        27 Sep 20  \n",
       "\n",
       "[5900 rows x 389 columns]"
      ]
     },
     "execution_count": 65,
     "metadata": {},
     "output_type": "execute_result"
    }
   ],
   "source": [
    "outlier = [98]\n",
    "df1 = pd.read_csv('voter_2020.csv', encoding = 'cp1252', na_values = outlier ) \n",
    "df1"
   ]
  },
  {
   "cell_type": "code",
   "execution_count": 66,
   "metadata": {},
   "outputs": [
    {
     "data": {
      "text/plain": [
       "array([ 5.,  3.,  7.,  6.,  4.,  2.,  1., nan])"
      ]
     },
     "execution_count": 66,
     "metadata": {},
     "output_type": "execute_result"
    }
   ],
   "source": [
    "df1['emotion_sadness_2020Sep'].unique()"
   ]
  },
  {
   "cell_type": "code",
   "execution_count": 68,
   "metadata": {},
   "outputs": [
    {
     "data": {
      "text/plain": [
       "<bound method DataFrame.dropna of       weight_genpop_2020Nov cdid_2020Nov  inputstate_2020Nov  track_2020Nov  \\\n",
       "0                  0.617408            2                 6.0            2.0   \n",
       "1                       NaN                              NaN            NaN   \n",
       "2                  0.513165            1                50.0            2.0   \n",
       "3                       NaN                              NaN            NaN   \n",
       "4                  0.567885            2                 4.0            2.0   \n",
       "...                     ...          ...                 ...            ...   \n",
       "5895               0.799748            1                16.0            2.0   \n",
       "5896               1.440486           14                17.0            2.0   \n",
       "5897               0.799748            6                29.0            3.0   \n",
       "5898                    NaN                              NaN            NaN   \n",
       "5899                    NaN                              NaN            NaN   \n",
       "\n",
       "      econtrend_2020Nov  persfinretro_2020Nov  standards_children_2020Nov  \\\n",
       "0                   3.0                   2.0                         1.0   \n",
       "1                   NaN                   NaN                         NaN   \n",
       "2                   3.0                   3.0                         2.0   \n",
       "3                   NaN                   NaN                         NaN   \n",
       "4                   3.0                   2.0                         2.0   \n",
       "...                 ...                   ...                         ...   \n",
       "5895                1.0                   2.0                         1.0   \n",
       "5896                3.0                   2.0                         3.0   \n",
       "5897                4.0                   3.0                         4.0   \n",
       "5898                NaN                   NaN                         NaN   \n",
       "5899                NaN                   NaN                         NaN   \n",
       "\n",
       "      values_culture_2020Nov  turnout_2020Nov  votemeth_2020Nov  ...  \\\n",
       "0                        2.0              1.0               3.0  ...   \n",
       "1                        NaN              NaN               NaN  ...   \n",
       "2                        2.0              1.0               3.0  ...   \n",
       "3                        NaN              NaN               NaN  ...   \n",
       "4                        1.0              1.0               3.0  ...   \n",
       "...                      ...              ...               ...  ...   \n",
       "5895                     1.0              1.0               3.0  ...   \n",
       "5896                     3.0              2.0               9.0  ...   \n",
       "5897                     3.0              1.0               2.0  ...   \n",
       "5898                     NaN              NaN               NaN  ...   \n",
       "5899                     NaN              NaN               NaN  ...   \n",
       "\n",
       "      faminc_2020Sep  ideo5_2020Sep child18_2020Sep  religion_2020Sep  \\\n",
       "0                  7              3               2                 2   \n",
       "1                  6              3               2                10   \n",
       "2                  3              2               2                 9   \n",
       "3                 11              2               2                11   \n",
       "4                 10              1               2                12   \n",
       "...              ...            ...             ...               ...   \n",
       "5895              97              2               2                 9   \n",
       "5896               7              1               1                12   \n",
       "5897               3              2               2                11   \n",
       "5898              14              3               2                 1   \n",
       "5899              10              3               2                 1   \n",
       "\n",
       "      religservice_2020Sep  bornagain_2020Sep  religimp_2020Sep  \\\n",
       "0                      5.0                  2                 2   \n",
       "1                      6.0                  2                 4   \n",
       "2                      6.0                  2                 4   \n",
       "3                      5.0                  2                 2   \n",
       "4                      2.0                  2                 2   \n",
       "...                    ...                ...               ...   \n",
       "5895                   6.0                  2                 4   \n",
       "5896                   1.0                  2                 1   \n",
       "5897                   6.0                  2                 2   \n",
       "5898                   5.0                  2                 2   \n",
       "5899                   2.0                  1                 1   \n",
       "\n",
       "      pew_prayer_2020Sep  starttime_2020Sep  endtime_2020Sep  \n",
       "0                      5          04 Sep 20        04 Sep 20  \n",
       "1                      6          29 Aug 20        29 Aug 20  \n",
       "2                      7          01 Sep 20        01 Sep 20  \n",
       "3                      1          08 Sep 20        08 Sep 20  \n",
       "4                      7          29 Aug 20        29 Aug 20  \n",
       "...                  ...                ...              ...  \n",
       "5895                   7          27 Sep 20        27 Sep 20  \n",
       "5896                   1          27 Sep 20        27 Sep 20  \n",
       "5897                   6          27 Sep 20        27 Sep 20  \n",
       "5898                   6          27 Sep 20        27 Sep 20  \n",
       "5899                   1          27 Sep 20        27 Sep 20  \n",
       "\n",
       "[5900 rows x 389 columns]>"
      ]
     },
     "execution_count": 68,
     "metadata": {},
     "output_type": "execute_result"
    }
   ],
   "source": [
    "df1.dropna"
   ]
  },
  {
   "cell_type": "markdown",
   "metadata": {},
   "source": [
    "All people"
   ]
  },
  {
   "cell_type": "code",
   "execution_count": 69,
   "metadata": {},
   "outputs": [
    {
     "data": {
      "text/plain": [
       "7.0    0.294996\n",
       "6.0    0.174724\n",
       "5.0    0.169466\n",
       "4.0    0.141815\n",
       "1.0    0.088210\n",
       "3.0    0.077184\n",
       "2.0    0.053605\n",
       "Name: emotion_sadness_2020Sep, dtype: float64"
      ]
     },
     "execution_count": 69,
     "metadata": {},
     "output_type": "execute_result"
    }
   ],
   "source": [
    "df1['emotion_sadness_2020Sep'].value_counts(normalize=True)"
   ]
  },
  {
   "cell_type": "code",
   "execution_count": 71,
   "metadata": {},
   "outputs": [
    {
     "data": {
      "text/plain": [
       "0       2\n",
       "1       1\n",
       "2       2\n",
       "3       2\n",
       "4       2\n",
       "       ..\n",
       "5895    2\n",
       "5896    1\n",
       "5897    2\n",
       "5898    2\n",
       "5899    2\n",
       "Name: gender_2020Sep, Length: 5900, dtype: int64"
      ]
     },
     "execution_count": 71,
     "metadata": {},
     "output_type": "execute_result"
    }
   ],
   "source": [
    "df1['gender_2020Sep']"
   ]
  },
  {
   "cell_type": "markdown",
   "metadata": {},
   "source": [
    "# Gender"
   ]
  },
  {
   "cell_type": "markdown",
   "metadata": {},
   "source": [
    "Male"
   ]
  },
  {
   "cell_type": "code",
   "execution_count": 73,
   "metadata": {},
   "outputs": [
    {
     "data": {
      "text/plain": [
       "emotion_sadness_2020Sep\n",
       "7.0                        0.258031\n",
       "6.0                        0.181215\n",
       "5.0                        0.175978\n",
       "4.0                        0.143855\n",
       "1.0                        0.094972\n",
       "3.0                        0.081006\n",
       "2.0                        0.064944\n",
       "dtype: float64"
      ]
     },
     "execution_count": 73,
     "metadata": {},
     "output_type": "execute_result"
    }
   ],
   "source": [
    "df1[df1['gender_2020Sep'] == 1][research].value_counts(normalize= True)"
   ]
  },
  {
   "cell_type": "markdown",
   "metadata": {},
   "source": [
    "Female"
   ]
  },
  {
   "cell_type": "code",
   "execution_count": 74,
   "metadata": {},
   "outputs": [
    {
     "data": {
      "text/plain": [
       "emotion_sadness_2020Sep\n",
       "7.0                        0.329924\n",
       "6.0                        0.168591\n",
       "5.0                        0.163312\n",
       "4.0                        0.139888\n",
       "1.0                        0.081821\n",
       "3.0                        0.073573\n",
       "2.0                        0.042890\n",
       "dtype: float64"
      ]
     },
     "execution_count": 74,
     "metadata": {},
     "output_type": "execute_result"
    }
   ],
   "source": [
    "df1[df1['gender_2020Sep'] == 2][research].value_counts(normalize= True)"
   ]
  },
  {
   "cell_type": "markdown",
   "metadata": {},
   "source": [
    "# Race"
   ]
  },
  {
   "cell_type": "code",
   "execution_count": 75,
   "metadata": {},
   "outputs": [
    {
     "data": {
      "text/plain": [
       "array([3, 1, 2, 6, 7, 4, 5, 8])"
      ]
     },
     "execution_count": 75,
     "metadata": {},
     "output_type": "execute_result"
    }
   ],
   "source": [
    "df1['race_2020Sep'].unique()"
   ]
  },
  {
   "cell_type": "markdown",
   "metadata": {},
   "source": [
    "White"
   ]
  },
  {
   "cell_type": "code",
   "execution_count": 76,
   "metadata": {},
   "outputs": [
    {
     "data": {
      "text/plain": [
       "emotion_sadness_2020Sep\n",
       "7.0                        0.314180\n",
       "6.0                        0.192848\n",
       "5.0                        0.172873\n",
       "4.0                        0.136868\n",
       "3.0                        0.069790\n",
       "1.0                        0.067324\n",
       "2.0                        0.046116\n",
       "dtype: float64"
      ]
     },
     "execution_count": 76,
     "metadata": {},
     "output_type": "execute_result"
    }
   ],
   "source": [
    "df1[df1['race_2020Sep'] == 1][research].value_counts(normalize= True)"
   ]
  },
  {
   "cell_type": "markdown",
   "metadata": {},
   "source": [
    "Black"
   ]
  },
  {
   "cell_type": "code",
   "execution_count": 84,
   "metadata": {},
   "outputs": [
    {
     "data": {
      "text/plain": [
       "emotion_sadness_2020Sep\n",
       "7.0                        0.251506\n",
       "1.0                        0.171687\n",
       "4.0                        0.153614\n",
       "5.0                        0.146084\n",
       "6.0                        0.117470\n",
       "3.0                        0.081325\n",
       "2.0                        0.078313\n",
       "dtype: float64"
      ]
     },
     "execution_count": 84,
     "metadata": {},
     "output_type": "execute_result"
    }
   ],
   "source": [
    "df1[df1['race_2020Sep'] == 2][research].value_counts(normalize= True)"
   ]
  },
  {
   "cell_type": "markdown",
   "metadata": {},
   "source": [
    "Hispanic"
   ]
  },
  {
   "cell_type": "code",
   "execution_count": 85,
   "metadata": {},
   "outputs": [
    {
     "data": {
      "text/plain": [
       "emotion_sadness_2020Sep\n",
       "7.0                        0.233711\n",
       "5.0                        0.165722\n",
       "4.0                        0.155807\n",
       "6.0                        0.141643\n",
       "1.0                        0.127479\n",
       "3.0                        0.099150\n",
       "2.0                        0.076487\n",
       "dtype: float64"
      ]
     },
     "execution_count": 85,
     "metadata": {},
     "output_type": "execute_result"
    }
   ],
   "source": [
    "df1[df1['race_2020Sep'] == 3][research].value_counts(normalize= True)"
   ]
  },
  {
   "cell_type": "code",
   "execution_count": 86,
   "metadata": {},
   "outputs": [
    {
     "data": {
      "text/plain": [
       "emotion_sadness_2020Sep\n",
       "7.0                        0.251309\n",
       "5.0                        0.209424\n",
       "4.0                        0.157068\n",
       "6.0                        0.157068\n",
       "3.0                        0.104712\n",
       "1.0                        0.068063\n",
       "2.0                        0.052356\n",
       "dtype: float64"
      ]
     },
     "execution_count": 86,
     "metadata": {},
     "output_type": "execute_result"
    }
   ],
   "source": [
    "df1[df1['race_2020Sep'] == 4][research].value_counts(normalize= True)"
   ]
  },
  {
   "cell_type": "code",
   "execution_count": 87,
   "metadata": {},
   "outputs": [
    {
     "data": {
      "text/plain": [
       "emotion_sadness_2020Sep\n",
       "7.0                        0.217391\n",
       "1.0                        0.173913\n",
       "4.0                        0.152174\n",
       "3.0                        0.130435\n",
       "6.0                        0.130435\n",
       "5.0                        0.108696\n",
       "2.0                        0.086957\n",
       "dtype: float64"
      ]
     },
     "execution_count": 87,
     "metadata": {},
     "output_type": "execute_result"
    }
   ],
   "source": [
    "df1[df1['race_2020Sep'] == 5][research].value_counts(normalize= True)"
   ]
  },
  {
   "cell_type": "code",
   "execution_count": 88,
   "metadata": {},
   "outputs": [
    {
     "data": {
      "text/plain": [
       "emotion_sadness_2020Sep\n",
       "7.0                        0.285714\n",
       "5.0                        0.173469\n",
       "4.0                        0.153061\n",
       "6.0                        0.153061\n",
       "1.0                        0.112245\n",
       "3.0                        0.102041\n",
       "2.0                        0.020408\n",
       "dtype: float64"
      ]
     },
     "execution_count": 88,
     "metadata": {},
     "output_type": "execute_result"
    }
   ],
   "source": [
    "df1[df1['race_2020Sep'] == 6][research].value_counts(normalize= True)"
   ]
  },
  {
   "cell_type": "code",
   "execution_count": 89,
   "metadata": {},
   "outputs": [
    {
     "data": {
      "text/plain": [
       "emotion_sadness_2020Sep\n",
       "7.0                        0.348837\n",
       "5.0                        0.170543\n",
       "6.0                        0.147287\n",
       "4.0                        0.116279\n",
       "1.0                        0.085271\n",
       "3.0                        0.085271\n",
       "2.0                        0.046512\n",
       "dtype: float64"
      ]
     },
     "execution_count": 89,
     "metadata": {},
     "output_type": "execute_result"
    }
   ],
   "source": [
    "df1[df1['race_2020Sep'] == 7][research].value_counts(normalize= True)"
   ]
  },
  {
   "cell_type": "markdown",
   "metadata": {},
   "source": [
    "Other Race"
   ]
  },
  {
   "cell_type": "code",
   "execution_count": 92,
   "metadata": {},
   "outputs": [
    {
     "data": {
      "text/plain": [
       "emotion_sadness_2020Sep\n",
       "7.0                        0.282979\n",
       "5.0                        0.178723\n",
       "6.0                        0.148936\n",
       "4.0                        0.146809\n",
       "3.0                        0.102128\n",
       "1.0                        0.091489\n",
       "2.0                        0.048936\n",
       "dtype: float64"
      ]
     },
     "execution_count": 92,
     "metadata": {},
     "output_type": "execute_result"
    }
   ],
   "source": [
    "df1[(df1['race_2020Sep'] == 8) | (df1['race_2020Sep'] == 7) | (df1['race_2020Sep'] == 6) | (df1['race_2020Sep'] == 5) | (df1['race_2020Sep'] == 4)][research].value_counts(normalize= True)"
   ]
  },
  {
   "cell_type": "markdown",
   "metadata": {},
   "source": [
    "# Education"
   ]
  },
  {
   "cell_type": "markdown",
   "metadata": {},
   "source": [
    "High School or Less"
   ]
  },
  {
   "cell_type": "code",
   "execution_count": 93,
   "metadata": {},
   "outputs": [
    {
     "data": {
      "text/plain": [
       "emotion_sadness_2020Sep\n",
       "7.0                        0.236427\n",
       "4.0                        0.180969\n",
       "5.0                        0.159370\n",
       "6.0                        0.146527\n",
       "1.0                        0.124927\n",
       "3.0                        0.088733\n",
       "2.0                        0.063047\n",
       "dtype: float64"
      ]
     },
     "execution_count": 93,
     "metadata": {},
     "output_type": "execute_result"
    }
   ],
   "source": [
    "df1[(df1[\"educ_2020Sep\"] == 1) | (df1[\"educ_2020Sep\"] == 2)][research].value_counts(normalize= True)"
   ]
  },
  {
   "cell_type": "markdown",
   "metadata": {},
   "source": [
    "Some College"
   ]
  },
  {
   "cell_type": "code",
   "execution_count": 97,
   "metadata": {},
   "outputs": [
    {
     "data": {
      "text/plain": [
       "emotion_sadness_2020Sep\n",
       "7.0                        0.306319\n",
       "5.0                        0.164148\n",
       "6.0                        0.163462\n",
       "4.0                        0.140110\n",
       "1.0                        0.086538\n",
       "3.0                        0.082418\n",
       "2.0                        0.057005\n",
       "dtype: float64"
      ]
     },
     "execution_count": 97,
     "metadata": {},
     "output_type": "execute_result"
    }
   ],
   "source": [
    "df1[df1[\"educ_2020Sep\"] == 3][research].value_counts(normalize= True)"
   ]
  },
  {
   "cell_type": "markdown",
   "metadata": {},
   "source": [
    "College Grad"
   ]
  },
  {
   "cell_type": "code",
   "execution_count": 98,
   "metadata": {},
   "outputs": [
    {
     "data": {
      "text/plain": [
       "emotion_sadness_2020Sep\n",
       "7.0                        0.309184\n",
       "6.0                        0.188776\n",
       "5.0                        0.183163\n",
       "4.0                        0.130102\n",
       "1.0                        0.072959\n",
       "3.0                        0.067857\n",
       "2.0                        0.047959\n",
       "dtype: float64"
      ]
     },
     "execution_count": 98,
     "metadata": {},
     "output_type": "execute_result"
    }
   ],
   "source": [
    "df1[(df1[\"educ_2020Sep\"] == 4) | (df1[\"educ_2020Sep\"] == 5)][research].value_counts(normalize= True)"
   ]
  },
  {
   "cell_type": "markdown",
   "metadata": {},
   "source": [
    "Post Grad"
   ]
  },
  {
   "cell_type": "code",
   "execution_count": 99,
   "metadata": {},
   "outputs": [
    {
     "data": {
      "text/plain": [
       "emotion_sadness_2020Sep\n",
       "7.0                        0.368146\n",
       "6.0                        0.223238\n",
       "5.0                        0.167102\n",
       "4.0                        0.087467\n",
       "3.0                        0.065274\n",
       "1.0                        0.048303\n",
       "2.0                        0.040470\n",
       "dtype: float64"
      ]
     },
     "execution_count": 99,
     "metadata": {},
     "output_type": "execute_result"
    }
   ],
   "source": [
    "df1[df1[\"educ_2020Sep\"] == 6][research].value_counts(normalize= True)"
   ]
  },
  {
   "cell_type": "markdown",
   "metadata": {},
   "source": [
    "# Ideology"
   ]
  },
  {
   "cell_type": "markdown",
   "metadata": {},
   "source": [
    "Very Liberal"
   ]
  },
  {
   "cell_type": "code",
   "execution_count": 102,
   "metadata": {},
   "outputs": [
    {
     "data": {
      "text/plain": [
       "emotion_sadness_2020Sep\n",
       "7.0                        0.462687\n",
       "6.0                        0.180597\n",
       "5.0                        0.153731\n",
       "4.0                        0.083582\n",
       "1.0                        0.050746\n",
       "3.0                        0.043284\n",
       "2.0                        0.025373\n",
       "dtype: float64"
      ]
     },
     "execution_count": 102,
     "metadata": {},
     "output_type": "execute_result"
    }
   ],
   "source": [
    "df1[df1['ideo5_2020Sep'] == 1][research].value_counts(normalize= True)"
   ]
  },
  {
   "cell_type": "markdown",
   "metadata": {},
   "source": [
    "Liberal"
   ]
  },
  {
   "cell_type": "code",
   "execution_count": 107,
   "metadata": {},
   "outputs": [
    {
     "data": {
      "text/plain": [
       "emotion_sadness_2020Sep\n",
       "7.0                        0.377034\n",
       "6.0                        0.200723\n",
       "5.0                        0.169982\n",
       "4.0                        0.123870\n",
       "3.0                        0.049729\n",
       "1.0                        0.046112\n",
       "2.0                        0.032550\n",
       "dtype: float64"
      ]
     },
     "execution_count": 107,
     "metadata": {},
     "output_type": "execute_result"
    }
   ],
   "source": [
    "df1[df1['ideo5_2020Sep'] == 2][research].value_counts(normalize= True)"
   ]
  },
  {
   "cell_type": "markdown",
   "metadata": {},
   "source": [
    "Moderate"
   ]
  },
  {
   "cell_type": "code",
   "execution_count": 108,
   "metadata": {},
   "outputs": [
    {
     "data": {
      "text/plain": [
       "emotion_sadness_2020Sep\n",
       "7.0                        0.298771\n",
       "6.0                        0.189681\n",
       "5.0                        0.162654\n",
       "4.0                        0.142506\n",
       "1.0                        0.082064\n",
       "3.0                        0.071253\n",
       "2.0                        0.053071\n",
       "dtype: float64"
      ]
     },
     "execution_count": 108,
     "metadata": {},
     "output_type": "execute_result"
    }
   ],
   "source": [
    "df1[df1['ideo5_2020Sep'] == 3][research].value_counts(normalize= True)"
   ]
  },
  {
   "cell_type": "markdown",
   "metadata": {},
   "source": [
    "Conservative"
   ]
  },
  {
   "cell_type": "code",
   "execution_count": 109,
   "metadata": {},
   "outputs": [
    {
     "data": {
      "text/plain": [
       "emotion_sadness_2020Sep\n",
       "5.0                        0.199499\n",
       "7.0                        0.176127\n",
       "4.0                        0.159432\n",
       "6.0                        0.153589\n",
       "3.0                        0.126878\n",
       "1.0                        0.106010\n",
       "2.0                        0.078464\n",
       "dtype: float64"
      ]
     },
     "execution_count": 109,
     "metadata": {},
     "output_type": "execute_result"
    }
   ],
   "source": [
    "df1[df1['ideo5_2020Sep'] == 4][research].value_counts(normalize= True)"
   ]
  },
  {
   "cell_type": "markdown",
   "metadata": {},
   "source": [
    "Very Conservative"
   ]
  },
  {
   "cell_type": "code",
   "execution_count": 110,
   "metadata": {},
   "outputs": [
    {
     "data": {
      "text/plain": [
       "emotion_sadness_2020Sep\n",
       "7.0                        0.240310\n",
       "6.0                        0.162791\n",
       "4.0                        0.153101\n",
       "5.0                        0.151163\n",
       "1.0                        0.129845\n",
       "2.0                        0.085271\n",
       "3.0                        0.077519\n",
       "dtype: float64"
      ]
     },
     "execution_count": 110,
     "metadata": {},
     "output_type": "execute_result"
    }
   ],
   "source": [
    "df1[df1['ideo5_2020Sep'] == 5][research].value_counts(normalize= True)"
   ]
  },
  {
   "cell_type": "markdown",
   "metadata": {},
   "source": [
    "Don't Know"
   ]
  },
  {
   "cell_type": "code",
   "execution_count": 112,
   "metadata": {},
   "outputs": [
    {
     "data": {
      "text/plain": [
       "emotion_sadness_2020Sep\n",
       "4.0                        0.224324\n",
       "1.0                        0.200000\n",
       "7.0                        0.186486\n",
       "5.0                        0.162162\n",
       "3.0                        0.091892\n",
       "6.0                        0.089189\n",
       "2.0                        0.045946\n",
       "dtype: float64"
      ]
     },
     "execution_count": 112,
     "metadata": {},
     "output_type": "execute_result"
    }
   ],
   "source": [
    "df1[df1['ideo5_2020Sep'] == 6][research].value_counts(normalize= True)"
   ]
  },
  {
   "cell_type": "markdown",
   "metadata": {},
   "source": [
    "# 5 Point Party ID"
   ]
  },
  {
   "cell_type": "markdown",
   "metadata": {},
   "source": [
    "Democrat"
   ]
  },
  {
   "cell_type": "code",
   "execution_count": 116,
   "metadata": {},
   "outputs": [
    {
     "data": {
      "text/plain": [
       "emotion_sadness_2020Sep\n",
       "7.0                        0.345086\n",
       "6.0                        0.192155\n",
       "5.0                        0.168797\n",
       "4.0                        0.122962\n",
       "1.0                        0.067871\n",
       "3.0                        0.062142\n",
       "2.0                        0.040987\n",
       "dtype: float64"
      ]
     },
     "execution_count": 116,
     "metadata": {},
     "output_type": "execute_result"
    }
   ],
   "source": [
    "df1[(df1['pid7_2020Sep'] == 1) | (df1['pid7_2020Sep'] == 2)][research].value_counts(normalize= True)"
   ]
  },
  {
   "cell_type": "markdown",
   "metadata": {},
   "source": [
    "Lean Democrat"
   ]
  },
  {
   "cell_type": "code",
   "execution_count": 117,
   "metadata": {},
   "outputs": [
    {
     "data": {
      "text/plain": [
       "emotion_sadness_2020Sep\n",
       "7.0                        0.444795\n",
       "6.0                        0.194006\n",
       "5.0                        0.157729\n",
       "4.0                        0.099369\n",
       "3.0                        0.045741\n",
       "1.0                        0.029968\n",
       "2.0                        0.028391\n",
       "dtype: float64"
      ]
     },
     "execution_count": 117,
     "metadata": {},
     "output_type": "execute_result"
    }
   ],
   "source": [
    "df1[df1['pid7_2020Sep'] == 3][research].value_counts(normalize= True)"
   ]
  },
  {
   "cell_type": "markdown",
   "metadata": {},
   "source": [
    "Independent"
   ]
  },
  {
   "cell_type": "code",
   "execution_count": 118,
   "metadata": {},
   "outputs": [
    {
     "data": {
      "text/plain": [
       "emotion_sadness_2020Sep\n",
       "7.0                        0.273626\n",
       "4.0                        0.164835\n",
       "5.0                        0.158242\n",
       "6.0                        0.158242\n",
       "1.0                        0.110989\n",
       "3.0                        0.087912\n",
       "2.0                        0.046154\n",
       "dtype: float64"
      ]
     },
     "execution_count": 118,
     "metadata": {},
     "output_type": "execute_result"
    }
   ],
   "source": [
    "df1[df1['pid7_2020Sep'] == 4][research].value_counts(normalize= True)"
   ]
  },
  {
   "cell_type": "markdown",
   "metadata": {},
   "source": [
    "Lean Republican"
   ]
  },
  {
   "cell_type": "code",
   "execution_count": 119,
   "metadata": {},
   "outputs": [
    {
     "data": {
      "text/plain": [
       "emotion_sadness_2020Sep\n",
       "7.0                        0.213389\n",
       "5.0                        0.200837\n",
       "6.0                        0.177824\n",
       "4.0                        0.127615\n",
       "3.0                        0.108787\n",
       "1.0                        0.098326\n",
       "2.0                        0.073222\n",
       "dtype: float64"
      ]
     },
     "execution_count": 119,
     "metadata": {},
     "output_type": "execute_result"
    }
   ],
   "source": [
    "df1[df1['pid7_2020Sep'] == 5][research].value_counts(normalize= True)"
   ]
  },
  {
   "cell_type": "markdown",
   "metadata": {},
   "source": [
    "Republican"
   ]
  },
  {
   "cell_type": "code",
   "execution_count": 120,
   "metadata": {},
   "outputs": [
    {
     "data": {
      "text/plain": [
       "emotion_sadness_2020Sep\n",
       "7.0                        0.208247\n",
       "5.0                        0.175258\n",
       "4.0                        0.167010\n",
       "6.0                        0.162199\n",
       "1.0                        0.112027\n",
       "3.0                        0.092096\n",
       "2.0                        0.083162\n",
       "dtype: float64"
      ]
     },
     "execution_count": 120,
     "metadata": {},
     "output_type": "execute_result"
    }
   ],
   "source": [
    "df1[(df1['pid7_2020Sep'] == 6) | (df1['pid7_2020Sep'] == 7)][research].value_counts(normalize= True)"
   ]
  },
  {
   "cell_type": "markdown",
   "metadata": {},
   "source": [
    "Not Sure"
   ]
  },
  {
   "cell_type": "code",
   "execution_count": 121,
   "metadata": {},
   "outputs": [
    {
     "data": {
      "text/plain": [
       "emotion_sadness_2020Sep\n",
       "4.0                        0.268456\n",
       "1.0                        0.241611\n",
       "5.0                        0.140940\n",
       "7.0                        0.134228\n",
       "3.0                        0.127517\n",
       "2.0                        0.046980\n",
       "6.0                        0.040268\n",
       "dtype: float64"
      ]
     },
     "execution_count": 121,
     "metadata": {},
     "output_type": "execute_result"
    }
   ],
   "source": [
    "df1[df1['pid7_2020Sep'] == 8][research].value_counts(normalize= True)"
   ]
  },
  {
   "cell_type": "code",
   "execution_count": null,
   "metadata": {},
   "outputs": [],
   "source": []
  }
 ],
 "metadata": {
  "kernelspec": {
   "display_name": "Python 3.10.8 ('base')",
   "language": "python",
   "name": "python3"
  },
  "language_info": {
   "codemirror_mode": {
    "name": "ipython",
    "version": 3
   },
   "file_extension": ".py",
   "mimetype": "text/x-python",
   "name": "python",
   "nbconvert_exporter": "python",
   "pygments_lexer": "ipython3",
   "version": "3.10.8"
  },
  "orig_nbformat": 4,
  "vscode": {
   "interpreter": {
    "hash": "18d2aa3fae0f36bb1720221dcbb2c06c763022491ae2f5a1384e2486a04c113e"
   }
  }
 },
 "nbformat": 4,
 "nbformat_minor": 2
}
